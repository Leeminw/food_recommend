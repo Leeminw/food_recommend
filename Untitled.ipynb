{
 "cells": [
  {
   "cell_type": "code",
   "execution_count": null,
   "id": "82059102",
   "metadata": {},
   "outputs": [
    {
     "name": "stdout",
     "output_type": "stream",
     "text": [
      " * Serving Flask app '__main__' (lazy loading)\n",
      " * Environment: production\n",
      "\u001b[31m   WARNING: This is a development server. Do not use it in a production deployment.\u001b[0m\n",
      "\u001b[2m   Use a production WSGI server instead.\u001b[0m\n",
      " * Debug mode: off\n"
     ]
    },
    {
     "name": "stderr",
     "output_type": "stream",
     "text": [
      " * Running on all addresses.\n",
      "   WARNING: This is a development server. Do not use it in a production deployment.\n",
      " * Running on http://192.168.85.181:8080/ (Press CTRL+C to quit)\n",
      "192.168.85.181 - - [25/Oct/2022 13:46:26] \"GET / HTTP/1.1\" 200 -\n",
      "192.168.85.181 - - [25/Oct/2022 13:46:26] \"GET /favicon.ico HTTP/1.1\" 404 -\n"
     ]
    }
   ],
   "source": [
    "from flask import Flask\n",
    "\n",
    "app = Flask(__name__)\n",
    "@app.route(\"/\")\n",
    "def hello():                           \n",
    "    return \"<h1>Hello World!</h1>\"\n",
    "\n",
    "@app.route(\"/hello\")\n",
    "def hello_flask():\n",
    "    return \"<h1>Hello Flash!</h1>\"\n",
    "\n",
    "@app.route(\"/first\")\n",
    "def hello_first():\n",
    "    return \"<h3>Hello First</h3>\"\n",
    "\n",
    "if __name__ == \"__main__\":              \n",
    "    app.run(host=\"0.0.0.0\", port=\"8080\")"
   ]
  },
  {
   "cell_type": "code",
   "execution_count": null,
   "id": "7a109c63",
   "metadata": {},
   "outputs": [],
   "source": []
  }
 ],
 "metadata": {
  "kernelspec": {
   "display_name": "Python 3 (ipykernel)",
   "language": "python",
   "name": "python3"
  },
  "language_info": {
   "codemirror_mode": {
    "name": "ipython",
    "version": 3
   },
   "file_extension": ".py",
   "mimetype": "text/x-python",
   "name": "python",
   "nbconvert_exporter": "python",
   "pygments_lexer": "ipython3",
   "version": "3.9.12"
  }
 },
 "nbformat": 4,
 "nbformat_minor": 5
}
