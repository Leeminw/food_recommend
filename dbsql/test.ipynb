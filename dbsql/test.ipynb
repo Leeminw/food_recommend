{
 "cells": [
  {
   "cell_type": "code",
   "execution_count": 7,
   "id": "49bc8b4a",
   "metadata": {},
   "outputs": [],
   "source": [
    "import pymysql\n",
    "import pandas as pd\n",
    "from pandas import DataFrame, Series\n",
    "import numpy as np\n",
    "\n",
    "db = pymysql.connect(\n",
    "    host='foodrm.cgnnqocprf5c.us-east-1.rds.amazonaws.com',\n",
    "    user = 'admin',\n",
    "    password = '1q2w3e4r',\n",
    "    db = 'userdb',\n",
    "    charset = 'utf8'\n",
    "    )\n",
    "\n",
    "fdb = pymysql.connect(\n",
    "    host='foodrm.cgnnqocprf5c.us-east-1.rds.amazonaws.com',\n",
    "    user = 'admin',\n",
    "    password = '1q2w3e4r',\n",
    "    db = 'fooddb',\n",
    "    charset = 'utf8'\n",
    "    )\n",
    "\n",
    "Type = '고기류'\n",
    "\n",
    "cursor = db.cursor()\n",
    "cur = fdb.cursor()\n",
    "\n",
    "\n",
    "foodsql = \" select FoodID from (food natural join feature ) where type = \" +\"'\" + Type + \"'\"\n",
    "cur.execute(foodsql)\n",
    "data = cur.fetchall()\n",
    "num = 18\n",
    "for FoodId in data :\n",
    "    item_query = \"insert into item (UserId, FoodId) values ('\" +str(num)+\"',' \"+ str(FoodId[0]) + \" ') \" \n",
    "    cursor.execute(item_query)\n",
    "db.commit()\n",
    "\n",
    "db.close()\n",
    "fdb.close()"
   ]
  },
  {
   "cell_type": "code",
   "execution_count": 5,
   "id": "4b04f8b7",
   "metadata": {},
   "outputs": [
    {
     "name": "stdout",
     "output_type": "stream",
     "text": [
      "4\n",
      "5\n",
      "6\n",
      "7\n",
      "10\n",
      "11\n",
      "12\n",
      "13\n",
      "17\n",
      "29\n"
     ]
    }
   ],
   "source": [
    "for a in data :\n",
    "    print(a[0])"
   ]
  },
  {
   "cell_type": "code",
   "execution_count": null,
   "id": "01a63629",
   "metadata": {},
   "outputs": [],
   "source": [
    "\n"
   ]
  }
 ],
 "metadata": {
  "kernelspec": {
   "display_name": "Python 3 (ipykernel)",
   "language": "python",
   "name": "python3"
  },
  "language_info": {
   "codemirror_mode": {
    "name": "ipython",
    "version": 3
   },
   "file_extension": ".py",
   "mimetype": "text/x-python",
   "name": "python",
   "nbconvert_exporter": "python",
   "pygments_lexer": "ipython3",
   "version": "3.9.12"
  }
 },
 "nbformat": 4,
 "nbformat_minor": 5
}
