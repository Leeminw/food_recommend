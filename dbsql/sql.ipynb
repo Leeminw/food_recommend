{
 "cells": [
  {
   "cell_type": "code",
   "execution_count": 2,
   "id": "49e49ef1",
   "metadata": {},
   "outputs": [
    {
     "ename": "ModuleNotFoundError",
     "evalue": "No module named 'pandas'",
     "output_type": "error",
     "traceback": [
      "\u001b[1;31m---------------------------------------------------------------------------\u001b[0m",
      "\u001b[1;31mModuleNotFoundError\u001b[0m                       Traceback (most recent call last)",
      "Input \u001b[1;32mIn [2]\u001b[0m, in \u001b[0;36m<cell line: 2>\u001b[1;34m()\u001b[0m\n\u001b[0;32m      1\u001b[0m \u001b[38;5;28;01mimport\u001b[39;00m \u001b[38;5;21;01mpymysql\u001b[39;00m\n\u001b[1;32m----> 2\u001b[0m \u001b[38;5;28;01mimport\u001b[39;00m \u001b[38;5;21;01mpandas\u001b[39;00m \u001b[38;5;28;01mas\u001b[39;00m \u001b[38;5;21;01mpd\u001b[39;00m\n\u001b[0;32m      3\u001b[0m \u001b[38;5;28;01mfrom\u001b[39;00m \u001b[38;5;21;01mpandas\u001b[39;00m \u001b[38;5;28;01mimport\u001b[39;00m DataFrame, Series\n\u001b[0;32m      4\u001b[0m \u001b[38;5;28;01mimport\u001b[39;00m \u001b[38;5;21;01mnumpy\u001b[39;00m \u001b[38;5;28;01mas\u001b[39;00m \u001b[38;5;21;01mnp\u001b[39;00m\n",
      "\u001b[1;31mModuleNotFoundError\u001b[0m: No module named 'pandas'"
     ]
    }
   ],
   "source": [
    "import pymysql\n",
    "import pandas as pd\n",
    "from pandas import DataFrame, Series\n",
    "import numpy as np\n",
    "def insert_food_info(Name, Type) :\n",
    "    conn = pymysql.connect(\n",
    "        host='foodrm.cgnnqocprf5c.us-east-1.rds.amazonaws.com',\n",
    "        user = 'admin',\n",
    "        password = '1q2w3e4r',\n",
    "        db = 'food_info',\n",
    "        charset = 'utf8'\n",
    "    )\n",
    "    cur =conn.cursor()\n",
    "    sql = \"insert into food (f_name, type) values(%s, %s)\"\n",
    "    cur.execute(sql,(Name,Type))\n",
    "    conn.commit()\n",
    "    conn.close()\n",
    "\n",
    "def insert_ingredient(Name) :\n",
    "    conn = pymysql.connect(\n",
    "        host='foodrm.cgnnqocprf5c.us-east-1.rds.amazonaws.com',\n",
    "        user = 'admin',\n",
    "        password = '1q2w3e4r',\n",
    "        db = 'food_info',\n",
    "        charset = 'utf8'\n",
    "    )\n",
    "    cur =conn.cursor()\n",
    "    sql = \"insert into ingredient (f_name) values(%s)\"\n",
    "    cur.execute(sql,(Name))\n",
    "    conn.commit()\n",
    "    conn.close()\n",
    "\n",
    "\n"
   ]
  },
  {
   "cell_type": "code",
   "execution_count": 14,
   "id": "5f044e0b",
   "metadata": {},
   "outputs": [],
   "source": [
    "for i in range(39):\n",
    "    name = df.iloc[i][0]\n",
    "    insert_ingredient(name)"
   ]
  },
  {
   "cell_type": "code",
   "execution_count": 2,
   "id": "f0829323",
   "metadata": {},
   "outputs": [],
   "source": [
    "feature = ['beef', 'pork','chicken','meat','vegetable','seafood','egg','milk','cereal','mushroom','noodle','rice','fruit','bread']\n",
    "import pandas as pd\n",
    "import pymysql\n",
    "conn = pymysql.connect(\n",
    "    host='foodrm.cgnnqocprf5c.us-east-1.rds.amazonaws.com',\n",
    "    user = 'admin',\n",
    "    password = '1q2w3e4r',\n",
    "    db = 'food_info',\n",
    "    charset = 'utf8'\n",
    ")\n",
    "\n",
    "\n",
    "\n",
    "filename = 'food_data.xlsx'\n",
    "\n",
    "df = pd.read_excel(filename, engine='openpyxl')\n",
    "cur =conn.cursor()\n",
    "for i in range (39):\n",
    "    for j in range(2,16) :\n",
    "        if(df.iloc[i][j]) :\n",
    "            query = \"update ingredient set \" + feature[j-2] + \"= TRUE Where f_name = '\" + str(df.iloc[i][0]) +\"'\"\n",
    "            cur.execute(query)\n",
    "            conn.commit()\n",
    "            # update ingredient \n",
    "            \n",
    "            \n",
    "conn.close()   \n"
   ]
  },
  {
   "cell_type": "code",
   "execution_count": 2,
   "id": "6e61ca56",
   "metadata": {},
   "outputs": [],
   "source": [
    "import pymysql\n",
    "conn = pymysql.connect(\n",
    "    host='foodrm.cgnnqocprf5c.us-east-1.rds.amazonaws.com',\n",
    "    user = 'admin',\n",
    "    password = '1q2w3e4r',\n",
    "    db = 'food_info',\n",
    "    charset = 'utf8'\n",
    ")\n",
    "cur =conn.cursor()\n",
    "\n"
   ]
  },
  {
   "cell_type": "code",
   "execution_count": 6,
   "id": "929f9e6a",
   "metadata": {},
   "outputs": [
    {
     "name": "stdout",
     "output_type": "stream",
     "text": [
      "[('감자탕', 0, 1, 0, 1, 1, 0, 0, 0, 0, 0, 0, 0, 1, 0), ('김치찌개', 0, 1, 0, 1, 1, 0, 0, 0, 0, 1, 0, 0, 1, 0), ('돼지국밥', 0, 1, 0, 0, 0, 0, 0, 0, 0, 0, 0, 0, 1, 0), ('된장찌개', 0, 0, 0, 0, 1, 0, 0, 0, 0, 1, 0, 0, 1, 0), ('보쌈', 0, 1, 0, 1, 1, 0, 0, 0, 0, 0, 0, 0, 0, 0), ('불고기', 1, 0, 0, 1, 1, 0, 0, 0, 0, 1, 0, 0, 0, 0), ('비빔밥', 1, 0, 0, 1, 1, 0, 1, 0, 0, 1, 0, 0, 1, 0), ('오징어볶음', 0, 0, 0, 0, 1, 1, 0, 0, 0, 0, 0, 0, 0, 0), ('육회', 1, 0, 0, 1, 0, 0, 1, 0, 0, 0, 1, 0, 0, 0), ('잡채', 0, 1, 0, 1, 1, 0, 0, 0, 0, 1, 0, 0, 0, 1), ('제육볶음', 0, 1, 0, 1, 1, 0, 0, 0, 0, 0, 0, 0, 0, 0), ('족발', 0, 1, 0, 1, 0, 0, 0, 0, 0, 0, 0, 0, 0, 0), ('깐풍기', 0, 0, 1, 1, 0, 0, 0, 0, 0, 0, 0, 0, 0, 0), ('꿔바로우', 0, 1, 0, 1, 0, 0, 0, 0, 1, 0, 0, 0, 0, 0), ('마라샹궈', 1, 0, 0, 1, 1, 1, 0, 0, 0, 0, 0, 0, 0, 0), ('마라탕', 1, 0, 0, 1, 1, 0, 0, 0, 0, 1, 0, 0, 0, 0), ('마파두부', 0, 1, 0, 1, 1, 0, 0, 1, 0, 1, 0, 0, 1, 0), ('샤오롱바오', 0, 1, 0, 1, 1, 0, 0, 0, 1, 0, 0, 0, 0, 0), ('짜장면', 0, 1, 0, 1, 1, 0, 0, 0, 0, 0, 0, 0, 0, 1), ('짬뽕', 0, 1, 0, 1, 0, 1, 0, 0, 0, 0, 0, 0, 0, 1), ('칠리새우', 0, 0, 0, 0, 0, 1, 0, 0, 1, 0, 1, 0, 0, 0), ('탕수육', 0, 1, 0, 0, 1, 0, 0, 0, 0, 0, 1, 0, 0, 0), ('국수', 0, 0, 0, 0, 1, 0, 1, 0, 1, 0, 0, 0, 0, 1), ('김밥', 0, 0, 0, 0, 1, 0, 1, 0, 0, 0, 0, 0, 1, 0), ('냉면', 0, 0, 0, 1, 0, 0, 0, 0, 0, 0, 0, 0, 0, 1), ('닭강정', 0, 0, 1, 1, 0, 0, 0, 0, 1, 0, 0, 0, 0, 0), ('돈가스', 0, 1, 0, 1, 0, 0, 0, 0, 0, 0, 0, 1, 0, 0), ('떡볶이', 0, 0, 0, 0, 0, 0, 0, 0, 0, 0, 0, 0, 1, 0), ('라면', 0, 0, 0, 1, 1, 1, 0, 0, 1, 0, 0, 0, 0, 1), ('순대', 0, 1, 0, 1, 0, 0, 0, 0, 0, 0, 0, 0, 0, 0), ('우동', 0, 0, 0, 0, 1, 1, 0, 0, 1, 0, 0, 0, 0, 1), ('쫄면', 0, 0, 0, 0, 0, 0, 0, 0, 0, 0, 0, 0, 0, 1), ('칼국수', 0, 0, 0, 0, 0, 1, 0, 0, 0, 0, 0, 0, 0, 1), ('해물 튀김', 0, 0, 0, 0, 0, 1, 0, 0, 1, 0, 0, 0, 0, 0)]\n"
     ]
    }
   ],
   "source": [
    "# input = name list\n",
    "input_food_list = ['감자탕','마라탕','냉면']         #post data\n",
    "\n",
    "Types = list()\n",
    "food_list = list()\n",
    "\n",
    "\n",
    "# input_food type 추출\n",
    "for i_food in input_food_list :    \n",
    "    query = \"select type from food where f_name = (%s)\"\n",
    "    cur.execute(query,(i_food))\n",
    "    rows = cur.fetchall()\n",
    "    for row in rows :\n",
    "        tmp = str(row).split(\"'\")[1]\n",
    "        Types.append(tmp)\n",
    "# type이 같은 food_name, feature 추출\n",
    "for Type in Types :\n",
    "    query = \"select * from ingredient left outer join food on ingredient.f_name = food.f_name where food.type = (%s)\"\n",
    "    cur.execute(query,(Type))\n",
    "    rows = cur.fetchall()\n",
    "    for row in rows :\n",
    "        food_list.append(row[:-2])\n",
    "\n",
    "\n",
    "print(food_list)\n"
   ]
  },
  {
   "cell_type": "code",
   "execution_count": 7,
   "id": "2503f696",
   "metadata": {},
   "outputs": [
    {
     "name": "stdout",
     "output_type": "stream",
     "text": [
      "[0.33333333 0.33333333 0.         1.         0.66666667 0.\n",
      " 0.         0.         0.         0.33333333 0.         0.\n",
      " 0.33333333 0.33333333]\n"
     ]
    }
   ],
   "source": [
    "input_food_feature = np.array([0]*14)\n",
    "\n",
    "for food in input_food_list :\n",
    "    query = \"select * from ingredient where f_name = (%s)\"\n",
    "    cur.execute(query,(food))\n",
    "    rows = cur.fetchall()\n",
    "    for row in rows :\n",
    "        input_food_feature += np.array(row[1:])\n",
    "input_food_feature = input_food_feature / len(input_food_list)       \n",
    "print(input_food_feature)"
   ]
  },
  {
   "cell_type": "code",
   "execution_count": 8,
   "id": "8928b09f",
   "metadata": {
    "scrolled": false
   },
   "outputs": [
    {
     "name": "stdout",
     "output_type": "stream",
     "text": [
      "      0  1  2  3  4  5  6  7  8  9  10 11 12 13\n",
      "김치찌개   0  1  0  1  1  0  0  0  0  1  0  0  1  0\n",
      "돼지국밥   0  1  0  0  0  0  0  0  0  0  0  0  1  0\n",
      "된장찌개   0  0  0  0  1  0  0  0  0  1  0  0  1  0\n",
      "보쌈     0  1  0  1  1  0  0  0  0  0  0  0  0  0\n",
      "불고기    1  0  0  1  1  0  0  0  0  1  0  0  0  0\n",
      "비빔밥    1  0  0  1  1  0  1  0  0  1  0  0  1  0\n",
      "오징어볶음  0  0  0  0  1  1  0  0  0  0  0  0  0  0\n",
      "육회     1  0  0  1  0  0  1  0  0  0  1  0  0  0\n",
      "잡채     0  1  0  1  1  0  0  0  0  1  0  0  0  1\n",
      "제육볶음   0  1  0  1  1  0  0  0  0  0  0  0  0  0\n",
      "족발     0  1  0  1  0  0  0  0  0  0  0  0  0  0\n",
      "깐풍기    0  0  1  1  0  0  0  0  0  0  0  0  0  0\n",
      "꿔바로우   0  1  0  1  0  0  0  0  1  0  0  0  0  0\n",
      "마라샹궈   1  0  0  1  1  1  0  0  0  0  0  0  0  0\n",
      "마파두부   0  1  0  1  1  0  0  1  0  1  0  0  1  0\n",
      "샤오롱바오  0  1  0  1  1  0  0  0  1  0  0  0  0  0\n",
      "짜장면    0  1  0  1  1  0  0  0  0  0  0  0  0  1\n",
      "짬뽕     0  1  0  1  0  1  0  0  0  0  0  0  0  1\n",
      "칠리새우   0  0  0  0  0  1  0  0  1  0  1  0  0  0\n",
      "탕수육    0  1  0  0  1  0  0  0  0  0  1  0  0  0\n",
      "국수     0  0  0  0  1  0  1  0  1  0  0  0  0  1\n",
      "김밥     0  0  0  0  1  0  1  0  0  0  0  0  1  0\n",
      "닭강정    0  0  1  1  0  0  0  0  1  0  0  0  0  0\n",
      "돈가스    0  1  0  1  0  0  0  0  0  0  0  1  0  0\n",
      "떡볶이    0  0  0  0  0  0  0  0  0  0  0  0  1  0\n",
      "라면     0  0  0  1  1  1  0  0  1  0  0  0  0  1\n",
      "순대     0  1  0  1  0  0  0  0  0  0  0  0  0  0\n",
      "우동     0  0  0  0  1  1  0  0  1  0  0  0  0  1\n",
      "쫄면     0  0  0  0  0  0  0  0  0  0  0  0  0  1\n",
      "칼국수    0  0  0  0  0  1  0  0  0  0  0  0  0  1\n",
      "해물 튀김  0  0  0  0  0  1  0  0  1  0  0  0  0  0\n"
     ]
    }
   ],
   "source": [
    "import pandas as pd\n",
    "from pandas import DataFrame, Series\n",
    "\n",
    "def cosine_sim(a, b):\n",
    "    return np.dot(a, b) / (np.linalg.norm(a) * (np.linalg.norm(b)))\n",
    "\n",
    "df = DataFrame(np.array(food_list).transpose()[1:].transpose(), index = np.array(food_list).transpose()[0])\n",
    "\n",
    "df1 = df.drop(index = input_food_list)\n",
    "df = df1\n",
    "print(df)\n"
   ]
  },
  {
   "cell_type": "code",
   "execution_count": 21,
   "id": "845af2b3",
   "metadata": {},
   "outputs": [
    {
     "name": "stdout",
     "output_type": "stream",
     "text": [
      "김치찌개 0.8432740427115677\n",
      "돼지국밥 0.33333333333333326\n",
      "된장찌개 0.5443310539518172\n",
      "보쌈 0.8164965809277259\n",
      "불고기 0.8249579113843053\n",
      "비빔밥 0.769800358919501\n",
      "오징어볶음 0.33333333333333326\n",
      "육회 0.4714045207910316\n",
      "잡채 0.8432740427115677\n",
      "제육볶음 0.8164965809277259\n",
      "족발 0.6666666666666665\n",
      "깐풍기 0.4999999999999999\n",
      "꿔바로우 0.5443310539518172\n",
      "마라샹궈 0.7071067811865475\n",
      "마파두부 0.769800358919501\n",
      "샤오롱바오 0.7071067811865475\n",
      "짜장면 0.8249579113843053\n",
      "짬뽕 0.5892556509887895\n",
      "칠리새우 0.0\n",
      "탕수육 0.40824829046386296\n",
      "국수 0.35355339059327373\n",
      "김밥 0.40824829046386296\n",
      "닭강정 0.40824829046386296\n",
      "돈가스 0.5443310539518172\n",
      "떡볶이 0.2357022603955158\n",
      "라면 0.6324555320336759\n",
      "순대 0.6666666666666665\n",
      "우동 0.35355339059327373\n",
      "쫄면 0.2357022603955158\n",
      "칼국수 0.16666666666666663\n",
      "해물 튀김 0.0\n"
     ]
    }
   ],
   "source": [
    "f_dict = dict()\n",
    "indexes = df.index\n",
    "for index in indexes :\n",
    "    f_dict.update({index : cosine_sim(input_food_feature, np.array(df.loc[index], dtype = np.float64))})\n",
    "\n",
    "for key, value in f_dict.items() :\n",
    "    print(key,value)\n"
   ]
  },
  {
   "cell_type": "code",
   "execution_count": 16,
   "id": "6f675fcf",
   "metadata": {},
   "outputs": [
    {
     "name": "stdout",
     "output_type": "stream",
     "text": [
      "['김치찌개', '잡채', '불고기']\n"
     ]
    }
   ],
   "source": [
    "    \n",
    "res = sorted(f_dict.items(), key = (lambda x:x[1]), reverse =True)\n",
    "ret = np.array(res[:3]).transpose()[0].tolist()\n",
    "print (ret)"
   ]
  },
  {
   "cell_type": "code",
   "execution_count": 17,
   "id": "5e8a4c39",
   "metadata": {},
   "outputs": [
    {
     "name": "stdout",
     "output_type": "stream",
     "text": [
      "0.8432740427115677\n"
     ]
    }
   ],
   "source": [
    "print(f_dict['김치찌개'])"
   ]
  },
  {
   "cell_type": "code",
   "execution_count": 5,
   "id": "b58fd576",
   "metadata": {},
   "outputs": [
    {
     "name": "stdout",
     "output_type": "stream",
     "text": [
      "['김치찌개', '보쌈', '제육볶음']\n",
      "query     :  1.228560209274292\n",
      "calculate :  0.2059767246246338\n"
     ]
    }
   ],
   "source": [
    "import pymysql\n",
    "import pandas as pd\n",
    "from pandas import DataFrame, Series\n",
    "import numpy as np\n",
    "import time \n",
    "def cosine_sim(a, b):\n",
    "    return np.dot(a, b) / (np.linalg.norm(a) * (np.linalg.norm(b)))\n",
    "\n",
    "time_1 = time.time()\n",
    "\n",
    "conn = pymysql.connect(\n",
    "    host='foodrm.cgnnqocprf5c.us-east-1.rds.amazonaws.com',\n",
    "    user = 'admin',\n",
    "    password = '1q2w3e4r',\n",
    "    db = 'food_info',\n",
    "    charset = 'utf8'\n",
    ")\n",
    "cur =conn.cursor()\n",
    "\n",
    "input_food_list = ['감자탕']         #post data\n",
    "#'감자탕','김치찌개','냉면','탕수육'\n",
    "Types = list()\n",
    "food_list = list()\n",
    "\n",
    "\n",
    "# input_food type 추출\n",
    "for i_food in input_food_list :    \n",
    "    query = \"select type from food where f_name = (%s)\"\n",
    "    cur.execute(query,(i_food))\n",
    "    rows = cur.fetchall()\n",
    "    for row in rows :\n",
    "        tmp = str(row).split(\"'\")[1]\n",
    "        Types.append(tmp)\n",
    "    \n",
    "Types = set(Types)\n",
    "# type이 같은 food_name, feature 추출\n",
    "for Type in Types :\n",
    "    query = \"select * from ingredient left outer join food on ingredient.f_name = food.f_name where food.type = (%s)\"\n",
    "    cur.execute(query,(Type))\n",
    "    rows = cur.fetchall()\n",
    "    for row in rows :\n",
    "        food_list.append(row[:-2])\n",
    "\n",
    "time_2=time.time()        \n",
    "        \n",
    "input_food_feature = np.array([0]*14)\n",
    "\n",
    "for food in input_food_list :\n",
    "    query = \"select * from ingredient where f_name = (%s)\"\n",
    "    cur.execute(query,(food))\n",
    "    rows = cur.fetchall()\n",
    "    for row in rows :\n",
    "        input_food_feature += np.array(row[1:])\n",
    "input_food_feature = input_food_feature / len(input_food_list)       \n",
    "\n",
    "\n",
    "df = DataFrame(np.array(food_list).transpose()[1:].transpose(), index = np.array(food_list).transpose()[0])\n",
    "\n",
    "df1 = df.drop(index = input_food_list)\n",
    "df = df1\n",
    "\n",
    "f_dict = dict()\n",
    "indexes = df.index\n",
    "for index in indexes :\n",
    "    f_dict.update({index : cosine_sim(input_food_feature, np.array(df.loc[index], dtype = np.float64))})\n",
    "\n",
    "res = sorted(f_dict.items(), key = (lambda x:x[1]), reverse =True)\n",
    "ret = np.array(res[:3]).transpose()[0].tolist()\n",
    "\n",
    "print (ret)\n",
    "\n",
    "time_3 = time.time()\n",
    "print(\"query     : \", time_2 - time_1)\n",
    "print(\"calculate : \", time_3 - time_2)"
   ]
  },
  {
   "cell_type": "code",
   "execution_count": null,
   "id": "8a36cc3c",
   "metadata": {},
   "outputs": [],
   "source": [
    "host='foodrm.cgnnqocprf5c.us-east-1.rds.amazonaws.com',\n",
    "user = 'admin',\n",
    "password = '1q2w3e4r',\n",
    "db = 'apidb',\n",
    "charset = 'utf8'"
   ]
  },
  {
   "cell_type": "code",
   "execution_count": 1,
   "id": "76607251",
   "metadata": {},
   "outputs": [],
   "source": [
    "import pymysql"
   ]
  },
  {
   "cell_type": "code",
   "execution_count": 8,
   "id": "9f306f0a",
   "metadata": {},
   "outputs": [],
   "source": [
    "def register():\n",
    "    if True:\n",
    "        db = pymysql.connect(\n",
    "                host='foodrm.cgnnqocprf5c.us-east-1.rds.amazonaws.com',\n",
    "                user = 'admin',\n",
    "                port = 3306,\n",
    "                password = '1q2w3e4r',\n",
    "                database = 'apidb',\n",
    "                 )\n",
    "\n",
    "        username = \"asdfgn0\"\n",
    "        password = \"qwern0\"\n",
    "        password2 = \"qwern0\"\n",
    "      \n",
    "        if password != password2:\n",
    "            print(\"not matched\")\n",
    "            return \n",
    "        \n",
    "        querysql = \"select * from user where username='\"+ username+\"' and password='\"+ password +\"'\"\n",
    "        sql = \"INSERT INTO user (username, password) VALUES ('\"+ username +\"', '\"+ password +\"')\"\n",
    "           \n",
    "        try: \n",
    "            cursor = db.cursor()\n",
    "            cursor.execute(querysql)\n",
    "            results = cursor.fetchall()\n",
    "            if len(results)==1:\n",
    "                db.close()\n",
    "                print(\"user exists already\")\n",
    "                return \n",
    "            else:\n",
    "                cursor.execute(sql)\n",
    "                db.commit()\n",
    "                print(\"created successfully\")\n",
    "                return \n",
    "        except Exception as e:\n",
    "            print('exception - {}'.format(str(e)))\n",
    "            db.rollback()\n",
    "            db.close()\n",
    "            print(\"retry\")\n",
    "            return "
   ]
  },
  {
   "cell_type": "code",
   "execution_count": 9,
   "id": "92743273",
   "metadata": {},
   "outputs": [
    {
     "name": "stdout",
     "output_type": "stream",
     "text": [
      "user exists already\n"
     ]
    }
   ],
   "source": [
    "register()"
   ]
  },
  {
   "cell_type": "code",
   "execution_count": 13,
   "id": "c6b7a355",
   "metadata": {},
   "outputs": [
    {
     "name": "stdout",
     "output_type": "stream",
     "text": [
      "arready\n"
     ]
    }
   ],
   "source": [
    "db = pymysql.connect(\n",
    "        host='foodrm.cgnnqocprf5c.us-east-1.rds.amazonaws.com',\n",
    "        user = 'admin',\n",
    "        password = '1q2w3e4r',\n",
    "        db = 'userdb',\n",
    "        charset = 'utf8'\n",
    ")\n",
    "\n",
    "username = \"lemin\"\n",
    "password = \"123123\"\n",
    "password2 = \"123123\"\n",
    "gender = \"남성\"\n",
    "age = \"20\"\n",
    "\n",
    "querysql = \"select * from user where username='\"+ username+\"' and password='\"+ password +\"'\"\n",
    "sql = \"INSERT INTO user (username, password, gender, age) VALUES ('\"+ username +\"', '\"+ password +\"', '\"+ gender +\"', '\"+ age +\"')\"\n",
    "\n",
    "cursor = db.cursor()\n",
    "cursor.execute(querysql)\n",
    "result = cursor.fetchall()\n",
    "if len(result) == 1:\n",
    "    db.close()\n",
    "    print(\"arready\")\n",
    "else :\n",
    "    cursor.execute(sql)\n",
    "    db.commit()\n",
    "    print(\"ok\")"
   ]
  },
  {
   "cell_type": "code",
   "execution_count": null,
   "id": "ae4eac67",
   "metadata": {},
   "outputs": [],
   "source": []
  },
  {
   "cell_type": "code",
   "execution_count": null,
   "id": "8f6eab3b",
   "metadata": {},
   "outputs": [],
   "source": []
  },
  {
   "cell_type": "code",
   "execution_count": null,
   "id": "08ec83dc",
   "metadata": {},
   "outputs": [],
   "source": []
  }
 ],
 "metadata": {
  "kernelspec": {
   "display_name": "Python 3 (ipykernel)",
   "language": "python",
   "name": "python3"
  },
  "language_info": {
   "codemirror_mode": {
    "name": "ipython",
    "version": 3
   },
   "file_extension": ".py",
   "mimetype": "text/x-python",
   "name": "python",
   "nbconvert_exporter": "python",
   "pygments_lexer": "ipython3",
   "version": "3.9.12"
  }
 },
 "nbformat": 4,
 "nbformat_minor": 5
}
