{
 "cells": [
  {
   "cell_type": "code",
   "execution_count": 13,
   "id": "861d05c9",
   "metadata": {},
   "outputs": [
    {
     "name": "stdout",
     "output_type": "stream",
     "text": [
      "['보쌈', '제육볶음', '잡채', '된장찌개', '비빔밥', '돼지국밥']\n"
     ]
    }
   ],
   "source": [
    "import pymysql\n",
    "import pandas as pd\n",
    "from pandas import DataFrame, Series\n",
    "import numpy as np\n",
    "\n",
    "#cosine 유사도 함수\n",
    "def cosine_sim(a, b):\n",
    "    return np.dot(a, b) / (np.linalg.norm(a) * (np.linalg.norm(b)))\n",
    "\n",
    "def Loadfooddataeset (input_food_list):\n",
    "    #data base 접근\n",
    "    conn = pymysql.connect(\n",
    "        host='foodrm.cgnnqocprf5c.us-east-1.rds.amazonaws.com',\n",
    "        user = 'admin',\n",
    "        password = '1q2w3e4r',\n",
    "        db = 'food_info',\n",
    "        charset = 'utf8'\n",
    "    )\n",
    "    cur =conn.cursor()\n",
    "\n",
    "    Types = set()\n",
    "    food_list = list()\n",
    "\n",
    "    # input_food들의 type 추출  ex) 한식, 중식 ...\n",
    "    for i_food in input_food_list :    \n",
    "        query = \"select type from food where f_name = (%s)\"\n",
    "        cur.execute(query,(i_food))\n",
    "        rows = cur.fetchall()\n",
    "        for row in rows :\n",
    "            tmp = str(row).split(\"'\")[1]\n",
    "            Types.append(tmp)\n",
    "\n",
    "    # type이 같은 food_name, feature 추출 \n",
    "    for Type in Types :\n",
    "        query = \"select * from ingredient left outer join food on ingredient.f_name = food.f_name where food.type = (%s)\"\n",
    "        cur.execute(query,(Type))\n",
    "        rows = cur.fetchall()\n",
    "        for row in rows :\n",
    "            food_list.append(row[:-2])\n",
    "\n",
    "    \n",
    "    #index = 음식이름, dataframe = feature, 음식같의 vector\n",
    "        \n",
    "    df = DataFrame(np.array(food_list).transpose()[1:].transpose(), index = np.array(food_list).transpose()[0])\n",
    "\n",
    "    df1 = df.drop(index = input_food_list)  # input 음식들을 추천에서 제외\n",
    "    conn.close()\n",
    "\n",
    "    return df1\n",
    "\n",
    "def Loadfoodfeature(input_food_list) :\n",
    "    conn = pymysql.connect(\n",
    "        host='foodrm.cgnnqocprf5c.us-east-1.rds.amazonaws.com',\n",
    "        user = 'admin',\n",
    "        password = '1q2w3e4r',\n",
    "        db = 'food_info',\n",
    "        charset = 'utf8'\n",
    "    )\n",
    "    cur = conn.cursor()\n",
    "    #input_food_feature 초기화\n",
    "    input_food_feature = np.zeros(14)\n",
    "    for food in input_food_list :\n",
    "        query = \"select * from ingredient where f_name = (%s)\"\n",
    "        cur.execute(query,(food))\n",
    "        rows = cur.fetchall()\n",
    "        for row in rows :\n",
    "            input_food_feature += np.array(row[1:])\n",
    "    input_food_feature = input_food_feature / len(input_food_list)\n",
    "    conn.close()\n",
    "\n",
    "    return input_food_feature\n",
    "\n",
    "\n",
    "input_list = ['감자탕','김치찌개'] #수정사항\n",
    "\n",
    "df = Loadfooddataeset(input_list)\n",
    "food_feature = Loadfoodfeature(input_list)\n",
    "\n",
    "\n",
    "# { 음식이름 : 코사인 유사도 } 사전생성\n",
    "f_dict = dict()\n",
    "indexes = df.index\n",
    "for index in indexes :\n",
    "    f_dict.update({index : cosine_sim(food_feature, np.array(df.loc[index], dtype = np.float64))})\n",
    "\n",
    "## print(f_dict)\n",
    "\n",
    "#코사인 유사도 value 기준으로  reverse sort\n",
    "rank = sorted(f_dict.items(), key = (lambda x:x[1]), reverse =True)\n",
    "\n",
    "\n",
    "#상위 3개 list 반환 \n",
    "rmfood = np.array(rank[:6]).transpose()[0].tolist()\n",
    "\n",
    "print (rmfood)"
   ]
  },
  {
   "cell_type": "code",
   "execution_count": 6,
   "id": "69e15ad1",
   "metadata": {},
   "outputs": [
    {
     "name": "stdout",
     "output_type": "stream",
     "text": [
      "('김치찌개', 0.9036961141150639)\n",
      "('불고기', 0.8660254037844387)\n",
      "('보쌈', 0.8333333333333335)\n",
      "('제육볶음', 0.8333333333333335)\n",
      "('비빔밥', 0.8249579113843055)\n",
      "('마파두부', 0.8249579113843055)\n",
      "('잡채', 0.7745966692414834)\n",
      "('마라샹궈', 0.7216878364870323)\n",
      "('샤오롱바오', 0.7216878364870323)\n",
      "('짜장면', 0.7216878364870323)\n",
      "('된장찌개', 0.6666666666666667)\n",
      "('족발', 0.6123724356957945)\n",
      "('꿔바로우', 0.5000000000000001)\n",
      "('탕수육', 0.5000000000000001)\n",
      "('육회', 0.43301270189221935)\n",
      "('짬뽕', 0.43301270189221935)\n",
      "('돼지국밥', 0.40824829046386296)\n",
      "('오징어볶음', 0.40824829046386296)\n",
      "('깐풍기', 0.40824829046386296)\n",
      "('칠리새우', 0.0)\n"
     ]
    }
   ],
   "source": [
    "for r in rank :\n",
    "    print(r)"
   ]
  },
  {
   "cell_type": "code",
   "execution_count": 3,
   "id": "b787866f",
   "metadata": {},
   "outputs": [
    {
     "name": "stdout",
     "output_type": "stream",
     "text": [
      "31\n"
     ]
    }
   ],
   "source": [
    "print(len(rank))"
   ]
  },
  {
   "cell_type": "code",
   "execution_count": 11,
   "id": "94a33b70",
   "metadata": {},
   "outputs": [
    {
     "ename": "NameError",
     "evalue": "name 'Type' is not defined",
     "output_type": "error",
     "traceback": [
      "\u001b[1;31m---------------------------------------------------------------------------\u001b[0m",
      "\u001b[1;31mNameError\u001b[0m                                 Traceback (most recent call last)",
      "Input \u001b[1;32mIn [11]\u001b[0m, in \u001b[0;36m<cell line: 1>\u001b[1;34m()\u001b[0m\n\u001b[1;32m----> 1\u001b[0m \u001b[38;5;28mprint\u001b[39m(\u001b[38;5;28mtype\u001b[39m(\u001b[43mType\u001b[49m))\n",
      "\u001b[1;31mNameError\u001b[0m: name 'Type' is not defined"
     ]
    }
   ],
   "source": [
    "print(type(Type))"
   ]
  },
  {
   "cell_type": "code",
   "execution_count": null,
   "id": "a84dae42",
   "metadata": {},
   "outputs": [],
   "source": []
  }
 ],
 "metadata": {
  "kernelspec": {
   "display_name": "Python 3 (ipykernel)",
   "language": "python",
   "name": "python3"
  },
  "language_info": {
   "codemirror_mode": {
    "name": "ipython",
    "version": 3
   },
   "file_extension": ".py",
   "mimetype": "text/x-python",
   "name": "python",
   "nbconvert_exporter": "python",
   "pygments_lexer": "ipython3",
   "version": "3.9.12"
  }
 },
 "nbformat": 4,
 "nbformat_minor": 5
}
