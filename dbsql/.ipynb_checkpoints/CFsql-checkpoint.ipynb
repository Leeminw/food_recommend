{
 "cells": [
  {
   "cell_type": "code",
   "execution_count": 8,
   "id": "8458cda1",
   "metadata": {},
   "outputs": [],
   "source": [
    "import pymysql\n",
    "import pandas as pd\n",
    "from pandas import DataFrame, Series\n",
    "import numpy as np\n",
    "def input_food (FoodID, name) :\n",
    "    conn = pymysql.connect(\n",
    "        host='foodrm.cgnnqocprf5c.us-east-1.rds.amazonaws.com',\n",
    "        user = 'admin',\n",
    "        password = '1q2w3e4r',\n",
    "        db = 'fooddb',\n",
    "        charset = 'utf8'\n",
    "    )\n",
    "    cur =conn.cursor()\n",
    "    sql = \"insert into food (FoodID, name) values(%s, %s)\"\n",
    "    cur.execute(sql,(FoodID,name))\n",
    "    conn.commit()\n",
    "    conn.close()\n",
    "\n",
    "food = [ '돼지국밥', '소머리국밥', '콩나물국밥', '설렁탕', '갈비탕', '매운탕', '감자탕', '마라탕', '마라샹궈', '된장찌개', '김치찌개', \n",
    "        '부대찌개' , '순두부찌개', '버섯전골', '샤브샤브', '나베', '낙곱새', '갈비', '생선구이', '고기구이', '비빔밥', '볶음밥', '덮밥',\n",
    "        '초밥', '회덮밥', '육회', '돈까스', '생선까스','해물찜', '족발', '보쌈', '스테이크', '폭립', '치킨', '피자' ,'햄버거', '샌드위치',\n",
    "        '짜장면', '짬뽕', '탕수육', '깐풍기', '꿔바로우', '냉면', '라면', '떡국', '국수', '파스타', '김밥', '죽', '샐러드', '토스트']\n",
    "\n",
    "for i in range (1, len(food)+1) :\n",
    "    input_food(i, food[i-1])\n",
    "        "
   ]
  },
  {
   "cell_type": "code",
   "execution_count": 1,
   "id": "bad68e65",
   "metadata": {},
   "outputs": [],
   "source": [
    "import pymysql\n",
    "import pandas as pd\n",
    "from pandas import DataFrame, Series\n",
    "import numpy as np\n",
    "conn = pymysql.connect(\n",
    "    host='foodrm.cgnnqocprf5c.us-east-1.rds.amazonaws.com',\n",
    "    user = 'admin',\n",
    "    password = '1q2w3e4r',\n",
    "    db = 'fooddb',\n",
    "    charset = 'utf8'\n",
    ")\n"
   ]
  },
  {
   "cell_type": "code",
   "execution_count": 1,
   "id": "d6772942",
   "metadata": {},
   "outputs": [],
   "source": [
    "import pymysql\n",
    "import pandas as pd\n",
    "from pandas import DataFrame, Series\n",
    "import numpy as np"
   ]
  },
  {
   "cell_type": "code",
   "execution_count": 31,
   "id": "d92fb1f2",
   "metadata": {},
   "outputs": [],
   "source": [
    "conn = pymysql.connect(\n",
    "    host='foodrm.cgnnqocprf5c.us-east-1.rds.amazonaws.com',\n",
    "    user = 'admin',\n",
    "    password = '1q2w3e4r',\n",
    "    db = 'userdb',\n",
    "    charset = 'utf8'\n",
    ")\n",
    "cur = conn.cursor()\n",
    "sql = \"select * from item\"\n",
    "cur.execute(sql)\n",
    "result = cur.fetchall()\n",
    "conn.commit()\n",
    "conn.close()\n"
   ]
  },
  {
   "cell_type": "code",
   "execution_count": 32,
   "id": "b19eea16",
   "metadata": {},
   "outputs": [
    {
     "name": "stdout",
     "output_type": "stream",
     "text": [
      "(('asdfn0', 2), ('asdfn0', 3))\n"
     ]
    }
   ],
   "source": [
    "print(result)"
   ]
  },
  {
   "cell_type": "code",
   "execution_count": 33,
   "id": "de8c5ca3",
   "metadata": {},
   "outputs": [],
   "source": [
    "ratings = pd.DataFrame(data = result, columns = ['UserID','FoodID'])"
   ]
  },
  {
   "cell_type": "code",
   "execution_count": 4,
   "id": "9d846290",
   "metadata": {},
   "outputs": [
    {
     "name": "stdout",
     "output_type": "stream",
     "text": [
      "    UserID  FoodID\n",
      "0        1      10\n",
      "1        1      11\n",
      "2        1      12\n",
      "3        1      13\n",
      "4        1      14\n",
      "..     ...     ...\n",
      "86      16      38\n",
      "87      16      39\n",
      "88      17      33\n",
      "89      17      34\n",
      "90      17      35\n",
      "\n",
      "[91 rows x 2 columns]\n"
     ]
    }
   ],
   "source": [
    "conn = pymysql.connect(\n",
    "    host='foodrm.cgnnqocprf5c.us-east-1.rds.amazonaws.com',\n",
    "    user = 'admin',\n",
    "    password = '1q2w3e4r',\n",
    "    db = 'userdb',\n",
    "    charset = 'utf8'\n",
    "    )\n",
    "cur = conn.cursor()\n",
    "sql = \"select * from item\"\n",
    "cur.execute(sql)\n",
    "result = cur.fetchall()\n",
    "conn.commit()\n",
    "conn.close()\n",
    "\n",
    "ratings = pd.DataFrame(data = result, columns= ['UserID','FoodID'] )\n",
    "print(ratings)\n",
    "ratings = ratings[['UserID', 'FoodID']]\n"
   ]
  },
  {
   "cell_type": "code",
   "execution_count": 3,
   "id": "09d46c17",
   "metadata": {},
   "outputs": [
    {
     "name": "stdout",
     "output_type": "stream",
     "text": [
      "    UserID  FoodID\n",
      "0        1      10\n",
      "1        1      11\n",
      "2        1      12\n",
      "3        1      13\n",
      "4        1      14\n",
      "..     ...     ...\n",
      "86      16      38\n",
      "87      16      39\n",
      "88      17      33\n",
      "89      17      34\n",
      "90      17      35\n",
      "\n",
      "[91 rows x 2 columns]\n"
     ]
    }
   ],
   "source": [
    "print(ratings)"
   ]
  },
  {
   "cell_type": "code",
   "execution_count": 6,
   "id": "c02a7bac",
   "metadata": {},
   "outputs": [
    {
     "name": "stdout",
     "output_type": "stream",
     "text": [
      "     UserID  FoodID\n",
      "0    UserID  FoodID\n",
      "1         1    1014\n",
      "2         1    5516\n",
      "3         1    8923\n",
      "4         1    6431\n",
      "..      ...     ...\n",
      "181       1    1014\n",
      "182       1    5516\n",
      "183       1      12\n",
      "184       1      34\n",
      "185       1      56\n",
      "\n",
      "[186 rows x 2 columns]\n",
      "     UserID  FoodID\n",
      "0    UserID  FoodID\n",
      "1         1    1014\n",
      "2         1    5516\n",
      "3         1    8923\n",
      "4         1    6431\n",
      "..      ...     ...\n",
      "181       1    1014\n",
      "182       1    5516\n",
      "183       1      12\n",
      "184       1      34\n",
      "185       1      56\n",
      "\n",
      "[186 rows x 2 columns]\n"
     ]
    }
   ],
   "source": [
    "ratings = pd.read_table('data.csv', sep=\"::\", header=None, names=[\"UserID\", \"FoodID\"],\n",
    "                            engine='python')\n",
    "print(ratings)\n",
    "ratings = ratings[['UserID', 'FoodID']]\n",
    "print(ratings)\n"
   ]
  },
  {
   "cell_type": "code",
   "execution_count": 14,
   "id": "874c26aa",
   "metadata": {},
   "outputs": [],
   "source": [
    "import pymysql\n",
    "import pandas as pd\n",
    "from pandas import DataFrame, Series\n",
    "import numpy as np\n",
    "username = 'asdf'\n",
    "\n",
    "conn = pymysql.connect(\n",
    "    host='foodrm.cgnnqocprf5c.us-east-1.rds.amazonaws.com',\n",
    "    user = 'admin',\n",
    "    password = '1q2w3e4r',\n",
    "    db = 'userdb',\n",
    "    charset = 'utf8'\n",
    ")\n",
    "cur = conn.cursor()\n",
    "sql = \"select UserID from user where username = '\" + username + \"'\"\n",
    "cur.execute(sql)\n",
    "UserID = cur.fetchall()[0][0]\n",
    "query = \"select FoodID from item where UserID = \" + str(UserID)\n",
    "cur.execute(query)\n",
    "data = cur.fetchall()\n",
    "conn.close()\n",
    "\n",
    "\n"
   ]
  },
  {
   "cell_type": "code",
   "execution_count": 21,
   "id": "22793ee1",
   "metadata": {},
   "outputs": [
    {
     "name": "stdout",
     "output_type": "stream",
     "text": [
      "((10,), (11,), (12,), (13,), (14,), (12,), (23,), (34,), (12,), (23,), (34,), (34,), (45,), (56,))\n",
      "[10, 11, 12, 13, 14, 12, 23, 34, 12, 23, 34, 34, 45, 56]\n"
     ]
    }
   ],
   "source": [
    "print(data)\n",
    "name = np.array(data).transpose().tolist()[0]\n"
   ]
  },
  {
   "cell_type": "code",
   "execution_count": 2,
   "id": "d685b31e",
   "metadata": {},
   "outputs": [],
   "source": [
    "import pymysql\n",
    "import pandas as pd\n",
    "from pandas import DataFrame, Series\n",
    "import numpy as np\n",
    "conn = pymysql.connect(\n",
    "    host='foodrm.cgnnqocprf5c.us-east-1.rds.amazonaws.com',\n",
    "    user = 'admin',\n",
    "    password = '1q2w3e4r',\n",
    "    db = 'fooddb',\n",
    "    charset = 'utf8'\n",
    ")\n",
    "cur =conn.cursor()\n",
    "\n",
    "food = ['순두부찌개' , '덮밥', '초밥' , '육회' , '생선까스' , '보쌈', '폭립', '냉면']\n",
    "url = ['https://recipe1.ezmember.co.kr/cache/recipe/2019/03/01/cbdcad39283af740afd0e08f97849c7c1.jpg'\n",
    "      ,'https://pds.joongang.co.kr/news/component/htmlphoto_mmdata/202204/11/36db54c6-4c62-40fe-89ae-7abc9bc45568.jpg'\n",
    "      ,'https://rimage.gnst.jp/livejapan.com/public/article/detail/a/00/00/a0000370/img/basic/a0000370_main.jpg?20201002142956&q=80&rw=750&rh=536'\n",
    "      ,'https://upload.wikimedia.org/wikipedia/commons/e/e7/2020-10-20_%EC%9C%A1%ED%9A%8C.jpeg'\n",
    "      ,'https://contents.lotteon.com/itemimage/_v164208/LO/13/53/08/74/24/_1/35/30/87/42/5/LO1353087424_1353087425_1.jpg/dims/resizef/720X720'\n",
    "      ,'https://src.hidoc.co.kr/image/lib/2018/10/24/20181024131557450_0.jpg'\n",
    "      ,'https://t1.daumcdn.net/cfile/tistory/24648C33596773C121'\n",
    "      ,'https://cdn.shopify.com/s/files/1/0528/8266/9745/files/1_bd23be59-2845-42d2-b956-498efcebbeed.jpg?v=1640334151']\n",
    "for i in range(len(food)):\n",
    "    sql = 'update food set url =' + \"'\" + url[i] + \"'\" + ' where name =' + \"'\" + food[i] + \"'\"\n",
    "    cur.execute(sql)\n",
    "    conn.commit()\n",
    "conn.close()"
   ]
  },
  {
   "cell_type": "code",
   "execution_count": null,
   "id": "59d45b07",
   "metadata": {},
   "outputs": [],
   "source": [
    "food = [ '돼지국밥', '소머리국밥', '콩나물국밥', '설렁탕', '갈비탕', '매운탕', '감자탕', '마라탕', '마라샹궈', '된장찌개', '김치찌개', \n",
    "        '부대찌개' , '순두부찌개', '버섯전골', '샤브샤브', '나베', '낙곱새', '갈비', '생선구이', '고기구이', '비빔밥', '볶음밥', '덮밥',\n",
    "        '초밥', '회덮밥', '육회', '돈까스', '생선까스','해물찜', '족발', '보쌈', '스테이크', '폭립', '치킨', '피자' ,'햄버거', '샌드위치',\n",
    "        '짜장면', '짬뽕', '탕수육', '깐풍기', '꿔바로우', '냉면', '라면', '떡국', '국수', '파스타', '김밥', '죽', '샐러드', '토스트','떡볶이']\n",
    "type = ['국밥류', '국밥류','국밥류','탕/찌개류','탕/찌개류','탕/찌개류','탕/찌개류','중식','중식','탕/찌개류','탕/찌개류','탕/찌개류',\n",
    "        '탕/찌개류','일식','일식','일식','탕/찌개류','고기류','생선류','고기류','한식','중식','일식','일식','일식','고기류','일식','일식','탕/찌개류'\n",
    "       ,'고기류','고기류','고기류','고기류','고기류','패스트푸드','패스트푸드','패스트푸드','중식','중식','중식','중식','중식','분식','분식','분식',\n",
    "        '분식','양식','분식','분식','샐러드','패스트푸드','분식']\n",
    "]"
   ]
  }
 ],
 "metadata": {
  "kernelspec": {
   "display_name": "Python 3 (ipykernel)",
   "language": "python",
   "name": "python3"
  },
  "language_info": {
   "codemirror_mode": {
    "name": "ipython",
    "version": 3
   },
   "file_extension": ".py",
   "mimetype": "text/x-python",
   "name": "python",
   "nbconvert_exporter": "python",
   "pygments_lexer": "ipython3",
   "version": "3.9.12"
  },
  "vscode": {
   "interpreter": {
    "hash": "2c458b840a3aced4a3c9e1d09170a6fc6fc8b7d0643e195e46f501ae4a1505fb"
   }
  }
 },
 "nbformat": 4,
 "nbformat_minor": 5
}
