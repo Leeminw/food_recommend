{
 "cells": [
  {
   "cell_type": "code",
   "execution_count": 8,
   "id": "8458cda1",
   "metadata": {},
   "outputs": [],
   "source": [
    "import pymysql\n",
    "import pandas as pd\n",
    "from pandas import DataFrame, Series\n",
    "import numpy as np\n",
    "def input_food (FoodID, name) :\n",
    "    conn = pymysql.connect(\n",
    "        host='foodrm.cgnnqocprf5c.us-east-1.rds.amazonaws.com',\n",
    "        user = 'admin',\n",
    "        password = '1q2w3e4r',\n",
    "        db = 'fooddb',\n",
    "        charset = 'utf8'\n",
    "    )\n",
    "    cur =conn.cursor()\n",
    "    sql = \"insert into food (FoodID, name) values(%s, %s)\"\n",
    "    cur.execute(sql,(FoodID,name))\n",
    "    conn.commit()\n",
    "    conn.close()\n",
    "\n",
    "food = [ '돼지국밥', '소머리국밥', '콩나물국밥', '설렁탕', '갈비탕', '매운탕', '감자탕', '마라탕', '마라샹궈', '된장찌개', '김치찌개', \n",
    "        '부대찌개' , '순두부찌개', '버섯전골', '샤브샤브', '나베', '낙곱새', '갈비', '생선구이', '고기구이', '비빔밥', '볶음밥', '덮밥',\n",
    "        '초밥', '회덮밥', '육회', '돈까스', '생선까스','해물찜', '족발', '보쌈', '스테이크', '폭립', '치킨', '피자' ,'햄버거', '샌드위치',\n",
    "        '짜장면', '짬뽕', '탕수육', '깐풍기', '꿔바로우', '냉면', '라면', '떡국', '국수', '파스타', '김밥', '죽', '샐러드', '토스트']\n",
    "\n",
    "for i in range (1, len(food)+1) :\n",
    "    input_food(i, food[i-1])\n",
    "        "
   ]
  },
  {
   "cell_type": "code",
   "execution_count": 1,
   "id": "bad68e65",
   "metadata": {},
   "outputs": [],
   "source": [
    "import pymysql\n",
    "import pandas as pd\n",
    "from pandas import DataFrame, Series\n",
    "import numpy as np\n",
    "conn = pymysql.connect(\n",
    "    host='foodrm.cgnnqocprf5c.us-east-1.rds.amazonaws.com',\n",
    "    user = 'admin',\n",
    "    password = '1q2w3e4r',\n",
    "    db = 'fooddb',\n",
    "    charset = 'utf8'\n",
    ")\n"
   ]
  },
  {
   "cell_type": "code",
   "execution_count": 1,
   "id": "d6772942",
   "metadata": {},
   "outputs": [],
   "source": [
    "import pymysql\n",
    "import pandas as pd\n",
    "from pandas import DataFrame, Series\n",
    "import numpy as np"
   ]
  },
  {
   "cell_type": "code",
   "execution_count": 31,
   "id": "d92fb1f2",
   "metadata": {},
   "outputs": [],
   "source": [
    "conn = pymysql.connect(\n",
    "    host='foodrm.cgnnqocprf5c.us-east-1.rds.amazonaws.com',\n",
    "    user = 'admin',\n",
    "    password = '1q2w3e4r',\n",
    "    db = 'userdb',\n",
    "    charset = 'utf8'\n",
    ")\n",
    "cur = conn.cursor()\n",
    "sql = \"select * from item\"\n",
    "cur.execute(sql)\n",
    "result = cur.fetchall()\n",
    "conn.commit()\n",
    "conn.close()\n"
   ]
  },
  {
   "cell_type": "code",
   "execution_count": 32,
   "id": "b19eea16",
   "metadata": {},
   "outputs": [
    {
     "name": "stdout",
     "output_type": "stream",
     "text": [
      "(('asdfn0', 2), ('asdfn0', 3))\n"
     ]
    }
   ],
   "source": [
    "print(result)"
   ]
  },
  {
   "cell_type": "code",
   "execution_count": 33,
   "id": "de8c5ca3",
   "metadata": {},
   "outputs": [],
   "source": [
    "ratings = pd.DataFrame(data = result, columns = ['UserID','FoodID'])"
   ]
  },
  {
   "cell_type": "code",
   "execution_count": 11,
   "id": "9d846290",
   "metadata": {},
   "outputs": [
    {
     "ename": "TypeError",
     "evalue": "__init__() got an unexpected keyword argument 'header'",
     "output_type": "error",
     "traceback": [
      "\u001b[1;31m---------------------------------------------------------------------------\u001b[0m",
      "\u001b[1;31mTypeError\u001b[0m                                 Traceback (most recent call last)",
      "Input \u001b[1;32mIn [11]\u001b[0m, in \u001b[0;36m<cell line: 15>\u001b[1;34m()\u001b[0m\n\u001b[0;32m     12\u001b[0m conn\u001b[38;5;241m.\u001b[39mcommit()\n\u001b[0;32m     13\u001b[0m conn\u001b[38;5;241m.\u001b[39mclose()\n\u001b[1;32m---> 15\u001b[0m ratings \u001b[38;5;241m=\u001b[39m \u001b[43mpd\u001b[49m\u001b[38;5;241;43m.\u001b[39;49m\u001b[43mDataFrame\u001b[49m\u001b[43m(\u001b[49m\u001b[43mdata\u001b[49m\u001b[43m \u001b[49m\u001b[38;5;241;43m=\u001b[39;49m\u001b[43m \u001b[49m\u001b[43mresult\u001b[49m\u001b[43m,\u001b[49m\u001b[43m \u001b[49m\u001b[43mcolumns\u001b[49m\u001b[38;5;241;43m=\u001b[39;49m\u001b[43m \u001b[49m\u001b[43m[\u001b[49m\u001b[38;5;124;43m'\u001b[39;49m\u001b[38;5;124;43mUserID\u001b[39;49m\u001b[38;5;124;43m'\u001b[39;49m\u001b[43m,\u001b[49m\u001b[38;5;124;43m'\u001b[39;49m\u001b[38;5;124;43mFoodID\u001b[39;49m\u001b[38;5;124;43m'\u001b[39;49m\u001b[43m]\u001b[49m\u001b[43m,\u001b[49m\u001b[43mheader\u001b[49m\u001b[43m \u001b[49m\u001b[38;5;241;43m=\u001b[39;49m\u001b[43m \u001b[49m\u001b[38;5;28;43;01mNone\u001b[39;49;00m\u001b[43m)\u001b[49m\n\u001b[0;32m     16\u001b[0m ratings \u001b[38;5;241m=\u001b[39m ratings[[\u001b[38;5;124m'\u001b[39m\u001b[38;5;124mUserID\u001b[39m\u001b[38;5;124m'\u001b[39m, \u001b[38;5;124m'\u001b[39m\u001b[38;5;124mFoodID\u001b[39m\u001b[38;5;124m'\u001b[39m]]\n",
      "\u001b[1;31mTypeError\u001b[0m: __init__() got an unexpected keyword argument 'header'"
     ]
    }
   ],
   "source": [
    "conn = pymysql.connect(\n",
    "    host='foodrm.cgnnqocprf5c.us-east-1.rds.amazonaws.com',\n",
    "    user = 'admin',\n",
    "    password = '1q2w3e4r',\n",
    "    db = 'userdb',\n",
    "    charset = 'utf8'\n",
    "    )\n",
    "cur = conn.cursor()\n",
    "sql = \"select * from item\"\n",
    "cur.execute(sql)\n",
    "result = cur.fetchall()\n",
    "conn.commit()\n",
    "conn.close()\n",
    "\n",
    "ratings = pd.DataFrame(data = result, columns= ['UserID','FoodID'] )\n",
    "ratings = ratings[['UserID', 'FoodID']]\n"
   ]
  },
  {
   "cell_type": "code",
   "execution_count": 7,
   "id": "09d46c17",
   "metadata": {},
   "outputs": [
    {
     "name": "stdout",
     "output_type": "stream",
     "text": [
      "   UserID  FoodID\n",
      "0       1      10\n",
      "1       1      11\n",
      "2       1      12\n",
      "3       1      13\n",
      "4       1      14\n",
      "5       2      24\n",
      "6       2      34\n",
      "7       2      44\n"
     ]
    }
   ],
   "source": [
    "print(ratings)"
   ]
  },
  {
   "cell_type": "code",
   "execution_count": 9,
   "id": "c02a7bac",
   "metadata": {},
   "outputs": [
    {
     "name": "stdout",
     "output_type": "stream",
     "text": [
      "     UserID  FoodID\n",
      "0    UserID  FoodID\n",
      "1         1    1014\n",
      "2         1    5516\n",
      "3         1    8923\n",
      "4         1    6431\n",
      "..      ...     ...\n",
      "181       1    1014\n",
      "182       1    5516\n",
      "183       1      12\n",
      "184       1      34\n",
      "185       1      56\n",
      "\n",
      "[186 rows x 2 columns]\n"
     ]
    }
   ],
   "source": [
    "ratings = pd.read_table('data.csv', sep=\"::\", header=None, names=[\"UserID\", \"FoodID\"],\n",
    "                            engine='python')\n",
    "print(ratings)"
   ]
  },
  {
   "cell_type": "code",
   "execution_count": null,
   "id": "874c26aa",
   "metadata": {},
   "outputs": [],
   "source": [
    "for i in range "
   ]
  }
 ],
 "metadata": {
  "kernelspec": {
   "display_name": "Python 3 (ipykernel)",
   "language": "python",
   "name": "python3"
  },
  "language_info": {
   "codemirror_mode": {
    "name": "ipython",
    "version": 3
   },
   "file_extension": ".py",
   "mimetype": "text/x-python",
   "name": "python",
   "nbconvert_exporter": "python",
   "pygments_lexer": "ipython3",
   "version": "3.9.12"
  },
  "vscode": {
   "interpreter": {
    "hash": "2c458b840a3aced4a3c9e1d09170a6fc6fc8b7d0643e195e46f501ae4a1505fb"
   }
  }
 },
 "nbformat": 4,
 "nbformat_minor": 5
}
