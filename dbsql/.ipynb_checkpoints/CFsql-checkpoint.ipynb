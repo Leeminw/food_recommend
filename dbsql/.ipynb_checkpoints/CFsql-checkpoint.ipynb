{
 "cells": [
  {
   "cell_type": "code",
   "execution_count": 8,
   "id": "8458cda1",
   "metadata": {},
   "outputs": [],
   "source": [
    "import pymysql\n",
    "import pandas as pd\n",
    "from pandas import DataFrame, Series\n",
    "import numpy as np\n",
    "def input_food (FoodID, name) :\n",
    "    conn = pymysql.connect(\n",
    "        host='foodrm.cgnnqocprf5c.us-east-1.rds.amazonaws.com',\n",
    "        user = 'admin',\n",
    "        password = '1q2w3e4r',\n",
    "        db = 'fooddb',\n",
    "        charset = 'utf8'\n",
    "    )\n",
    "    cur =conn.cursor()\n",
    "    sql = \"insert into food (FoodID, name) values(%s, %s)\"\n",
    "    cur.execute(sql,(FoodID,name))\n",
    "    conn.commit()\n",
    "    conn.close()\n",
    "\n",
    "food = [ '돼지국밥', '소머리국밥', '콩나물국밥', '설렁탕', '갈비탕', '매운탕', '감자탕', '마라탕', '마라샹궈', '된장찌개', '김치찌개', \n",
    "        '부대찌개' , '순두부찌개', '버섯전골', '샤브샤브', '나베', '낙곱새', '갈비', '생선구이', '고기구이', '비빔밥', '볶음밥', '덮밥',\n",
    "        '초밥', '회덮밥', '육회', '돈까스', '생선까스','해물찜', '족발', '보쌈', '스테이크', '폭립', '치킨', '피자' ,'햄버거', '샌드위치',\n",
    "        '짜장면', '짬뽕', '탕수육', '깐풍기', '꿔바로우', '냉면', '라면', '떡국', '국수', '파스타', '김밥', '죽', '샐러드', '토스트']\n",
    "\n",
    "for i in range (1, len(food)+1) :\n",
    "    input_food(i, food[i-1])\n",
    "        "
   ]
  },
  {
   "cell_type": "code",
   "execution_count": 1,
   "id": "bad68e65",
   "metadata": {},
   "outputs": [],
   "source": [
    "import pymysql\n",
    "import pandas as pd\n",
    "from pandas import DataFrame, Series\n",
    "import numpy as np\n",
    "conn = pymysql.connect(\n",
    "    host='foodrm.cgnnqocprf5c.us-east-1.rds.amazonaws.com',\n",
    "    user = 'admin',\n",
    "    password = '1q2w3e4r',\n",
    "    db = 'fooddb',\n",
    "    charset = 'utf8'\n",
    ")\n"
   ]
  },
  {
   "cell_type": "code",
   "execution_count": 1,
   "id": "d6772942",
   "metadata": {},
   "outputs": [],
   "source": [
    "import pymysql\n",
    "import pandas as pd\n",
    "from pandas import DataFrame, Series\n",
    "import numpy as np"
   ]
  },
  {
   "cell_type": "code",
   "execution_count": 31,
   "id": "d92fb1f2",
   "metadata": {},
   "outputs": [],
   "source": [
    "conn = pymysql.connect(\n",
    "    host='foodrm.cgnnqocprf5c.us-east-1.rds.amazonaws.com',\n",
    "    user = 'admin',\n",
    "    password = '1q2w3e4r',\n",
    "    db = 'userdb',\n",
    "    charset = 'utf8'\n",
    ")\n",
    "cur = conn.cursor()\n",
    "sql = \"select * from item\"\n",
    "cur.execute(sql)\n",
    "result = cur.fetchall()\n",
    "conn.commit()\n",
    "conn.close()\n"
   ]
  },
  {
   "cell_type": "code",
   "execution_count": 32,
   "id": "b19eea16",
   "metadata": {},
   "outputs": [
    {
     "name": "stdout",
     "output_type": "stream",
     "text": [
      "(('asdfn0', 2), ('asdfn0', 3))\n"
     ]
    }
   ],
   "source": [
    "print(result)"
   ]
  },
  {
   "cell_type": "code",
   "execution_count": 33,
   "id": "de8c5ca3",
   "metadata": {},
   "outputs": [],
   "source": [
    "ratings = pd.DataFrame(data = result, columns = ['UserID','FoodID'])"
   ]
  },
  {
   "cell_type": "code",
   "execution_count": 4,
   "id": "9d846290",
   "metadata": {},
   "outputs": [
    {
     "name": "stdout",
     "output_type": "stream",
     "text": [
      "    UserID  FoodID\n",
      "0        1      10\n",
      "1        1      11\n",
      "2        1      12\n",
      "3        1      13\n",
      "4        1      14\n",
      "..     ...     ...\n",
      "86      16      38\n",
      "87      16      39\n",
      "88      17      33\n",
      "89      17      34\n",
      "90      17      35\n",
      "\n",
      "[91 rows x 2 columns]\n"
     ]
    }
   ],
   "source": [
    "conn = pymysql.connect(\n",
    "    host='foodrm.cgnnqocprf5c.us-east-1.rds.amazonaws.com',\n",
    "    user = 'admin',\n",
    "    password = '1q2w3e4r',\n",
    "    db = 'userdb',\n",
    "    charset = 'utf8'\n",
    "    )\n",
    "cur = conn.cursor()\n",
    "sql = \"select * from item\"\n",
    "cur.execute(sql)\n",
    "result = cur.fetchall()\n",
    "conn.commit()\n",
    "conn.close()\n",
    "\n",
    "ratings = pd.DataFrame(data = result, columns= ['UserID','FoodID'] )\n",
    "print(ratings)\n",
    "ratings = ratings[['UserID', 'FoodID']]\n"
   ]
  },
  {
   "cell_type": "code",
   "execution_count": 3,
   "id": "09d46c17",
   "metadata": {},
   "outputs": [
    {
     "name": "stdout",
     "output_type": "stream",
     "text": [
      "    UserID  FoodID\n",
      "0        1      10\n",
      "1        1      11\n",
      "2        1      12\n",
      "3        1      13\n",
      "4        1      14\n",
      "..     ...     ...\n",
      "86      16      38\n",
      "87      16      39\n",
      "88      17      33\n",
      "89      17      34\n",
      "90      17      35\n",
      "\n",
      "[91 rows x 2 columns]\n"
     ]
    }
   ],
   "source": [
    "print(ratings)"
   ]
  },
  {
   "cell_type": "code",
   "execution_count": 6,
   "id": "c02a7bac",
   "metadata": {},
   "outputs": [
    {
     "name": "stdout",
     "output_type": "stream",
     "text": [
      "     UserID  FoodID\n",
      "0    UserID  FoodID\n",
      "1         1    1014\n",
      "2         1    5516\n",
      "3         1    8923\n",
      "4         1    6431\n",
      "..      ...     ...\n",
      "181       1    1014\n",
      "182       1    5516\n",
      "183       1      12\n",
      "184       1      34\n",
      "185       1      56\n",
      "\n",
      "[186 rows x 2 columns]\n",
      "     UserID  FoodID\n",
      "0    UserID  FoodID\n",
      "1         1    1014\n",
      "2         1    5516\n",
      "3         1    8923\n",
      "4         1    6431\n",
      "..      ...     ...\n",
      "181       1    1014\n",
      "182       1    5516\n",
      "183       1      12\n",
      "184       1      34\n",
      "185       1      56\n",
      "\n",
      "[186 rows x 2 columns]\n"
     ]
    }
   ],
   "source": [
    "ratings = pd.read_table('data.csv', sep=\"::\", header=None, names=[\"UserID\", \"FoodID\"],\n",
    "                            engine='python')\n",
    "print(ratings)\n",
    "ratings = ratings[['UserID', 'FoodID']]\n",
    "print(ratings)\n"
   ]
  },
  {
   "cell_type": "code",
   "execution_count": 14,
   "id": "874c26aa",
   "metadata": {},
   "outputs": [],
   "source": [
    "import pymysql\n",
    "import pandas as pd\n",
    "from pandas import DataFrame, Series\n",
    "import numpy as np\n",
    "username = 'asdf'\n",
    "\n",
    "conn = pymysql.connect(\n",
    "    host='foodrm.cgnnqocprf5c.us-east-1.rds.amazonaws.com',\n",
    "    user = 'admin',\n",
    "    password = '1q2w3e4r',\n",
    "    db = 'userdb',\n",
    "    charset = 'utf8'\n",
    ")\n",
    "cur = conn.cursor()\n",
    "sql = \"select UserID from user where username = '\" + username + \"'\"\n",
    "cur.execute(sql)\n",
    "UserID = cur.fetchall()[0][0]\n",
    "query = \"select FoodID from item where UserID = \" + str(UserID)\n",
    "cur.execute(query)\n",
    "data = cur.fetchall()\n",
    "conn.close()\n",
    "\n",
    "\n"
   ]
  },
  {
   "cell_type": "code",
   "execution_count": 21,
   "id": "22793ee1",
   "metadata": {},
   "outputs": [
    {
     "name": "stdout",
     "output_type": "stream",
     "text": [
      "((10,), (11,), (12,), (13,), (14,), (12,), (23,), (34,), (12,), (23,), (34,), (34,), (45,), (56,))\n",
      "[10, 11, 12, 13, 14, 12, 23, 34, 12, 23, 34, 34, 45, 56]\n"
     ]
    }
   ],
   "source": [
    "print(data)\n",
    "name = np.array(data).transpose().tolist()[0]\n"
   ]
  },
  {
   "cell_type": "code",
   "execution_count": 2,
   "id": "d685b31e",
   "metadata": {},
   "outputs": [],
   "source": [
    "import pymysql\n",
    "import pandas as pd\n",
    "from pandas import DataFrame, Series\n",
    "import numpy as np\n",
    "conn = pymysql.connect(\n",
    "    host='foodrm.cgnnqocprf5c.us-east-1.rds.amazonaws.com',\n",
    "    user = 'admin',\n",
    "    password = '1q2w3e4r',\n",
    "    db = 'fooddb',\n",
    "    charset = 'utf8'\n",
    ")\n",
    "cur =conn.cursor()\n",
    "\n",
    "food = [ '돼지국밥', '소머리국밥', '콩나물국밥', '설렁탕', '갈비탕', '매운탕', '감자탕', '마라탕', '마라샹궈', '된장찌개', '김치찌개', \n",
    "        '부대찌개' , '순두부찌개', '버섯전골', '샤브샤브', '나베', '낙곱새', '갈비', '생선구이', '고기구이', '비빔밥', '볶음밥', '덮밥',\n",
    "        '초밥', '회덮밥', '육회', '돈까스', '생선까스','해물찜', '족발', '보쌈', '스테이크', '폭립', '치킨', '피자' ,'햄버거', '샌드위치',\n",
    "        '짜장면', '짬뽕', '탕수육', '깐풍기', '꿔바로우', '냉면', '라면', '떡국', '국수', '파스타', '김밥', '죽', '샐러드', '토스트']\n",
    "\n",
    "url =  ['https://mp-seoul-image-production-s3.mangoplate.com/17042/223584_1435720757266285767',\n",
    "       'https://mp-seoul-image-production-s3.mangoplate.com/340593/746651_1515641214460_3837',\n",
    "       'https://recipe1.ezmember.co.kr/cache/recipe/2017/07/04/c64a2e8fc862e0cb15f451890789d9561.jpg',\n",
    "       'https://i.ytimg.com/vi/-eQb_6iUwRw/maxresdefault.jpg',\n",
    "       'https://img.theqoo.net/img/iNrXe.png',\n",
    "       'https://recipe1.ezmember.co.kr/cache/recipe/2017/04/24/156396865b96eaae475f91f27f2059971.jpg',\n",
    "       'https://img.siksinhot.com/place/1527205143060159.jpg',\n",
    "       'https://coreanmart.com/wp-content/uploads/2021/05/KakaoTalk_20210506_105638712.jpg',\n",
    "       'https://t1.daumcdn.net/cfile/tistory/997ABE375A3CF4DE03',\n",
    "       'https://kfood.hyangyeon.sg/wp-content/uploads/2020/04/된장찌개-1.jpg',\n",
    "       'https://cdn.clien.net/web/api/file/F01/9335941/52301972f4f34c.jpg',\n",
    "       'https://img.siksinhot.com/place/1505535916592454.jpg',\n",
    "       'http://recipe1.ezmember.co.kr/cache/recipe/2018/09/05/31dc2e6f5fa0b05d313e9c46ba4e88591.jpg',\n",
    "       'https://recipe1.ezmember.co.kr/cache/recipe/2019/02/20/4fbff29f42cae28a7ef00cbc2eeab3561.jpg',\n",
    "       'https://mp-seoul-image-production-s3.mangoplate.com/49755/449685_1552467015650_10636',\n",
    "       'https://img.siksinhot.com/seeon/1441089572184420.jpg',\n",
    "       'https://i.pinimg.com/originals/30/7c/5a/307c5ac797cdf2fd9bf1d737c14880a8.jpg',\n",
    "       'https://cdn.lightning-ashe.com/wp-content/uploads/2016/04/IMG_7287.jpg',\n",
    "       'https://t1.daumcdn.net/cfile/tistory/2443DA4F55C49CEB28',\n",
    "       'https://mp-seoul-image-production-s3.mangoplate.com/459498_1607596072327210.jpg',\n",
    "       'https://t1.daumcdn.net/cfile/blog/273F6A4A525360691E',\n",
    "       'https://recipe1.ezmember.co.kr/cache/recipe/2018/01/11/f283fa572173917c1f8e4d4ee900463d1.jpg',\n",
    "       'http://recipe.ezmember.co.kr/cache/recipe/2016/06/08/6140461616b8aad0e18488967660d4411.jpg',\n",
    "       'http://t1.daumcdn.net/liveboard/mango/f2196fe059cd4630ab57ad131bcc5964.JPG',\n",
    "       'https://newsimg.hankookilbo.com/cms/articlerelease/2016/05/31/201605312042227155_1.jpg?t=20210416090102',\n",
    "       'http://www.maangchi.com/wp-content/uploads/2010/04/seasoned-rawbeef.jpg',\n",
    "        'https://img.siksinhot.com/place/1527132173692039.jpg',\n",
    "        'http://image.fmkorea.com/files/attach/new/20171223/486616/857298993/876418737/d84ec9a76e92f3814e1a154b4750c7b3.jpg',\n",
    "        'https://recipe1.ezmember.co.kr/cache/recipe/2016/12/16/99d6cb0cb6c434b562217f407623c8491.jpg',\n",
    "        'https://www.newiki.net/w/images/thumb/f/f3/Jokbal.jpg/1200px-Jokbal.jpg',\n",
    "        'http://hobbyen.co.kr/news/data/20191213/p179558688114647_907.png',\n",
    "        'https://image.fmkorea.com/files/attach/new/20191220/3655304/408581828/2515220370/9cb17a19e9c5bac0e7001dde9d406dbe.jpeg',\n",
    "        'http://img.ezmember.co.kr/cache/board/2013/12/23/18b54fbb29e95e3cdc62453fcf52fa74.jpg',\n",
    "        'http://www.koreaittimes.com/news/photo/201912/94676_39901_013.jpg',\n",
    "        'https://t1.daumcdn.net/cfile/tistory/13136E424FC2FD260D',\n",
    "        'https://t1.daumcdn.net/liveboard/SNUH/8f47f7ad4809492e8e8f5bba4a5531c5.JPG',\n",
    "        'https://www.maangchi.com/wp-content/uploads/2017/07/three-color-sandwich-dosirak.jpg',\n",
    "        'https://t1.daumcdn.net/cfile/tistory/260E154E570C1B3E34',\n",
    "        'https://t1.daumcdn.net/cfile/tistory/246F0D435865ECA315',\n",
    "        'https://img.jjang0u.com/data4/docs/160/202009/28/da/cc92bb9622aa489b2d492bc43890c7b1_228761.jpg',\n",
    "        'https://i.ytimg.com/vi/DUW83ywsPJ0/maxresdefault.jpg',\n",
    "        'https://i.ytimg.com/vi/NvNQAsVwQrI/maxresdefault.jpg',\n",
    "        'http://img.wkorea.com/w/2018/05/style_5afdacefc95f6.jpg',\n",
    "        'https://img.etoday.co.kr/pto_db/2012/10/20121013043222_228792_500_600.jpg',\n",
    "        'https://t1.daumcdn.net/cfile/tistory/9921A9485A47205706',\n",
    "        'https://t1.daumcdn.net/cfile/tistory/242BD33A580E52DF15',\n",
    "        'https://image.jtbcplus.kr/data/contents/jam_photo/202104/15/5f9311ec-74f5-4ec0-9138-afb292f67b56.jpg',\n",
    "        'https://i.ytimg.com/vi/hdWP8Y3nrNc/maxresdefault.jpg',\n",
    "        'https://img.insight.co.kr/static/2020/05/20/700/o0nuvd6pa2t945ldb6b5.jpg',\n",
    "        'http://postfiles14.naver.net/20151109_45/hunjy87_14470343155198EP6b_JPEG/IMG_3146.JPG?type=w1',\n",
    "        'https://www.visualdive.com/wp-content/uploads/2021/04/1-1-1-scaled.jpg'\n",
    "       ]"
   ]
  },
  {
   "cell_type": "code",
   "execution_count": 3,
   "id": "dab731fe",
   "metadata": {
    "scrolled": false
   },
   "outputs": [
    {
     "name": "stdout",
     "output_type": "stream",
     "text": [
      "돼지국밥\n",
      "https://mp-seoul-image-production-s3.mangoplate.com/17042/223584_1435720757266285767\n",
      "소머리국밥\n",
      "https://mp-seoul-image-production-s3.mangoplate.com/340593/746651_1515641214460_3837\n",
      "콩나물국밥\n",
      "https://recipe1.ezmember.co.kr/cache/recipe/2017/07/04/c64a2e8fc862e0cb15f451890789d9561.jpg\n",
      "설렁탕\n",
      "https://i.ytimg.com/vi/-eQb_6iUwRw/maxresdefault.jpg\n",
      "갈비탕\n",
      "https://img.theqoo.net/img/iNrXe.png\n",
      "매운탕\n",
      "https://recipe1.ezmember.co.kr/cache/recipe/2017/04/24/156396865b96eaae475f91f27f2059971.jpg\n",
      "감자탕\n",
      "https://img.siksinhot.com/place/1527205143060159.jpg\n",
      "마라탕\n",
      "https://coreanmart.com/wp-content/uploads/2021/05/KakaoTalk_20210506_105638712.jpg\n",
      "마라샹궈\n",
      "https://t1.daumcdn.net/cfile/tistory/997ABE375A3CF4DE03\n",
      "된장찌개\n",
      "https://kfood.hyangyeon.sg/wp-content/uploads/2020/04/된장찌개-1.jpg\n",
      "김치찌개\n",
      "https://cdn.clien.net/web/api/file/F01/9335941/52301972f4f34c.jpg\n",
      "부대찌개\n",
      "https://img.siksinhot.com/place/1505535916592454.jpg\n",
      "순두부찌개\n",
      "http://recipe1.ezmember.co.kr/cache/recipe/2018/09/05/31dc2e6f5fa0b05d313e9c46ba4e88591.jpg\n",
      "버섯전골\n",
      "https://recipe1.ezmember.co.kr/cache/recipe/2019/02/20/4fbff29f42cae28a7ef00cbc2eeab3561.jpg\n",
      "샤브샤브\n",
      "https://mp-seoul-image-production-s3.mangoplate.com/49755/449685_1552467015650_10636\n",
      "나베\n",
      "https://img.siksinhot.com/seeon/1441089572184420.jpg\n",
      "낙곱새\n",
      "https://i.pinimg.com/originals/30/7c/5a/307c5ac797cdf2fd9bf1d737c14880a8.jpg\n",
      "갈비\n",
      "https://cdn.lightning-ashe.com/wp-content/uploads/2016/04/IMG_7287.jpg\n",
      "생선구이\n",
      "https://t1.daumcdn.net/cfile/tistory/2443DA4F55C49CEB28\n",
      "고기구이\n",
      "https://mp-seoul-image-production-s3.mangoplate.com/459498_1607596072327210.jpg\n",
      "비빔밥\n",
      "https://t1.daumcdn.net/cfile/blog/273F6A4A525360691E\n",
      "볶음밥\n",
      "https://i.ytimg.com/vi/cEW6Bb9jlEo/maxresdefault.jpg\n",
      "덮밥\n",
      "http://recipe.ezmember.co.kr/cache/recipe/2016/06/08/6140461616b8aad0e18488967660d4411.jpg\n",
      "초밥\n",
      "http://t1.daumcdn.net/liveboard/mango/f2196fe059cd4630ab57ad131bcc5964.JPG\n",
      "회덮밥\n",
      "https://newsimg.hankookilbo.com/cms/articlerelease/2016/05/31/201605312042227155_1.jpg?t=20210416090102\n",
      "육회\n",
      "http://www.maangchi.com/wp-content/uploads/2010/04/seasoned-rawbeef.jpg\n",
      "돈까스\n",
      "https://img.siksinhot.com/place/1527132173692039.jpg\n",
      "생선까스\n",
      "http://image.fmkorea.com/files/attach/new/20171223/486616/857298993/876418737/d84ec9a76e92f3814e1a154b4750c7b3.jpg\n",
      "해물찜\n",
      "http://thumbnail.egloos.net/529x0/http://pds17.egloos.com/pds/201001/25/73/e0098273_4b5d7e6dbd1b1.jpg\n",
      "족발\n",
      "https://www.newiki.net/w/images/thumb/f/f3/Jokbal.jpg/1200px-Jokbal.jpg\n",
      "보쌈\n",
      "http://hobbyen.co.kr/news/data/20191213/p179558688114647_907.png\n",
      "스테이크\n",
      "https://image.fmkorea.com/files/attach/new/20191220/3655304/408581828/2515220370/9cb17a19e9c5bac0e7001dde9d406dbe.jpeg\n",
      "폭립\n",
      "http://img.ezmember.co.kr/cache/board/2013/12/23/18b54fbb29e95e3cdc62453fcf52fa74.jpg\n",
      "치킨\n",
      "http://www.koreaittimes.com/news/photo/201912/94676_39901_013.jpg\n",
      "피자\n",
      "https://t1.daumcdn.net/cfile/tistory/13136E424FC2FD260D\n",
      "햄버거\n",
      "https://t1.daumcdn.net/liveboard/SNUH/8f47f7ad4809492e8e8f5bba4a5531c5.JPG\n",
      "샌드위치\n",
      "https://www.maangchi.com/wp-content/uploads/2017/07/three-color-sandwich-dosirak.jpg\n",
      "짜장면\n",
      "https://t1.daumcdn.net/cfile/tistory/260E154E570C1B3E34\n",
      "짬뽕\n",
      "https://t1.daumcdn.net/cfile/tistory/246F0D435865ECA315\n",
      "탕수육\n",
      "https://img.jjang0u.com/data4/docs/160/202009/28/da/cc92bb9622aa489b2d492bc43890c7b1_228761.jpg\n",
      "깐풍기\n",
      "https://i.ytimg.com/vi/DUW83ywsPJ0/maxresdefault.jpg\n",
      "꿔바로우\n",
      "https://i.ytimg.com/vi/NvNQAsVwQrI/maxresdefault.jpg\n",
      "냉면\n",
      "http://img.wkorea.com/w/2018/05/style_5afdacefc95f6.jpg\n",
      "라면\n",
      "https://img.etoday.co.kr/pto_db/2012/10/20121013043222_228792_500_600.jpg\n",
      "떡국\n",
      "https://t1.daumcdn.net/cfile/tistory/9921A9485A47205706\n",
      "국수\n",
      "https://t1.daumcdn.net/cfile/tistory/242BD33A580E52DF15\n",
      "파스타\n",
      "https://image.jtbcplus.kr/data/contents/jam_photo/202104/15/5f9311ec-74f5-4ec0-9138-afb292f67b56.jpg\n",
      "김밥\n",
      "https://i.ytimg.com/vi/hdWP8Y3nrNc/maxresdefault.jpg\n",
      "죽\n",
      "https://img.insight.co.kr/static/2020/05/20/700/o0nuvd6pa2t945ldb6b5.jpg\n",
      "샐러드\n",
      "http://postfiles14.naver.net/20151109_45/hunjy87_14470343155198EP6b_JPEG/IMG_3146.JPG?type=w1\n",
      "토스트\n",
      "https://www.visualdive.com/wp-content/uploads/2021/04/1-1-1-scaled.jpg\n"
     ]
    }
   ],
   "source": [
    "for i in range (51) :\n",
    "    print(food[i])\n",
    "    print(url[i])"
   ]
  },
  {
   "cell_type": "code",
   "execution_count": null,
   "id": "ee00ac95",
   "metadata": {},
   "outputs": [],
   "source": [
    "\n",
    "\n",
    "\n",
    "sql = \"insert into food (FoodID, name) values(%s, %s)\"\n",
    "cur.execute(sql,(FoodID,name))\n",
    "conn.commit()\n",
    "conn.close()"
   ]
  }
 ],
 "metadata": {
  "kernelspec": {
   "display_name": "Python 3 (ipykernel)",
   "language": "python",
   "name": "python3"
  },
  "language_info": {
   "codemirror_mode": {
    "name": "ipython",
    "version": 3
   },
   "file_extension": ".py",
   "mimetype": "text/x-python",
   "name": "python",
   "nbconvert_exporter": "python",
   "pygments_lexer": "ipython3",
   "version": "3.9.12"
  },
  "vscode": {
   "interpreter": {
    "hash": "2c458b840a3aced4a3c9e1d09170a6fc6fc8b7d0643e195e46f501ae4a1505fb"
   }
  }
 },
 "nbformat": 4,
 "nbformat_minor": 5
}
