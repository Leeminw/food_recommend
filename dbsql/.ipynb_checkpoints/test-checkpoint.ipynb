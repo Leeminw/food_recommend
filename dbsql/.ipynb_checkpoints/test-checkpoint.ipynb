{
 "cells": [
  {
   "cell_type": "code",
   "execution_count": null,
   "id": "fe03cc01",
   "metadata": {},
   "outputs": [],
   "source": [
    "db = pymysql.connect(\n",
    "    host='foodrm.cgnnqocprf5c.us-east-1.rds.amazonaws.com',\n",
    "    user = 'admin',\n",
    "    password = '1q2w3e4r',\n",
    "    db = 'userdb',\n",
    "    charset = 'utf8'\n",
    "    )\n",
    "\n",
    "fdb = pymysql.connect(\n",
    "    host='foodrm.cgnnqocprf5c.us-east-1.rds.amazonaws.com',\n",
    "    user = 'admin',\n",
    "    password = '1q2w3e4r',\n",
    "    db = 'fooddb',\n",
    "    charset = 'utf8'\n",
    "    )\n",
    "\n",
    "\n",
    "\n",
    "foodsql = \" select FoodID from (food natural join feature ) where type = \" +\"'\" + Type + \"'\"\n",
    "cur.execute(foodsql)\n",
    "data = cur.fetchall()\n",
    "for FoodId in data :\n",
    "    item_query = \"insert into item (UserId, FoodId) values ('\" +str(num)+\"',' \"+ str(FoodId) + \" ') \" \n",
    "    cursor.execute(item_query)\n",
    "    db.commit()\n"
   ]
  }
 ],
 "metadata": {
  "kernelspec": {
   "display_name": "Python 3 (ipykernel)",
   "language": "python",
   "name": "python3"
  },
  "language_info": {
   "codemirror_mode": {
    "name": "ipython",
    "version": 3
   },
   "file_extension": ".py",
   "mimetype": "text/x-python",
   "name": "python",
   "nbconvert_exporter": "python",
   "pygments_lexer": "ipython3",
   "version": "3.9.12"
  }
 },
 "nbformat": 4,
 "nbformat_minor": 5
}
