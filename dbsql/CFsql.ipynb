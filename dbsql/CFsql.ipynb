{
 "cells": [
  {
   "cell_type": "code",
   "execution_count": 8,
   "id": "8458cda1",
   "metadata": {},
   "outputs": [],
   "source": [
    "import pymysql\n",
    "import pandas as pd\n",
    "from pandas import DataFrame, Series\n",
    "import numpy as np\n",
    "def input_food (FoodID, name) :\n",
    "    conn = pymysql.connect(\n",
    "        host='foodrm.cgnnqocprf5c.us-east-1.rds.amazonaws.com',\n",
    "        user = 'admin',\n",
    "        password = '1q2w3e4r',\n",
    "        db = 'fooddb',\n",
    "        charset = 'utf8'\n",
    "    )\n",
    "    cur =conn.cursor()\n",
    "    sql = \"insert into food (FoodID, name) values(%s, %s)\"\n",
    "    cur.execute(sql,(FoodID,name))\n",
    "    conn.commit()\n",
    "    conn.close()\n",
    "\n",
    "food = [ '돼지국밥', '소머리국밥', '콩나물국밥', '설렁탕', '갈비탕', '매운탕', '감자탕', '마라탕', '마라샹궈', '된장찌개', '김치찌개', \n",
    "        '부대찌개' , '순두부찌개', '버섯전골', '샤브샤브', '나베', '낙곱새', '갈비', '생선구이', '고기구이', '비빔밥', '볶음밥', '덮밥',\n",
    "        '초밥', '회덮밥', '육회', '돈까스', '생선까스','해물찜', '족발', '보쌈', '스테이크', '폭립', '치킨', '피자' ,'햄버거', '샌드위치',\n",
    "        '짜장면', '짬뽕', '탕수육', '깐풍기', '꿔바로우', '냉면', '라면', '떡국', '국수', '파스타', '김밥', '죽', '샐러드', '토스트']\n",
    "\n",
    "for i in range (1, len(food)+1) :\n",
    "    input_food(i, food[i-1])\n",
    "        "
   ]
  },
  {
   "cell_type": "code",
   "execution_count": 1,
   "id": "bad68e65",
   "metadata": {},
   "outputs": [],
   "source": [
    "import pymysql\n",
    "import pandas as pd\n",
    "from pandas import DataFrame, Series\n",
    "import numpy as np\n",
    "conn = pymysql.connect(\n",
    "    host='foodrm.cgnnqocprf5c.us-east-1.rds.amazonaws.com',\n",
    "    user = 'admin',\n",
    "    password = '1q2w3e4r',\n",
    "    db = 'fooddb',\n",
    "    charset = 'utf8'\n",
    ")\n"
   ]
  },
  {
   "cell_type": "code",
   "execution_count": 1,
   "id": "d6772942",
   "metadata": {},
   "outputs": [],
   "source": [
    "import pymysql\n",
    "import pandas as pd\n",
    "from pandas import DataFrame, Series\n",
    "import numpy as np"
   ]
  },
  {
   "cell_type": "code",
   "execution_count": 31,
   "id": "d92fb1f2",
   "metadata": {},
   "outputs": [],
   "source": [
    "conn = pymysql.connect(\n",
    "    host='foodrm.cgnnqocprf5c.us-east-1.rds.amazonaws.com',\n",
    "    user = 'admin',\n",
    "    password = '1q2w3e4r',\n",
    "    db = 'userdb',\n",
    "    charset = 'utf8'\n",
    ")\n",
    "cur = conn.cursor()\n",
    "sql = \"select * from item\"\n",
    "cur.execute(sql)\n",
    "result = cur.fetchall()\n",
    "conn.commit()\n",
    "conn.close()\n"
   ]
  },
  {
   "cell_type": "code",
   "execution_count": 32,
   "id": "b19eea16",
   "metadata": {},
   "outputs": [
    {
     "name": "stdout",
     "output_type": "stream",
     "text": [
      "(('asdfn0', 2), ('asdfn0', 3))\n"
     ]
    }
   ],
   "source": [
    "print(result)"
   ]
  },
  {
   "cell_type": "code",
   "execution_count": 33,
   "id": "de8c5ca3",
   "metadata": {},
   "outputs": [],
   "source": [
    "ratings = pd.DataFrame(data = result, columns = ['UserID','FoodID'])"
   ]
  },
  {
   "cell_type": "code",
   "execution_count": 4,
   "id": "9d846290",
   "metadata": {},
   "outputs": [
    {
     "name": "stdout",
     "output_type": "stream",
     "text": [
      "    UserID  FoodID\n",
      "0        1      10\n",
      "1        1      11\n",
      "2        1      12\n",
      "3        1      13\n",
      "4        1      14\n",
      "..     ...     ...\n",
      "86      16      38\n",
      "87      16      39\n",
      "88      17      33\n",
      "89      17      34\n",
      "90      17      35\n",
      "\n",
      "[91 rows x 2 columns]\n"
     ]
    }
   ],
   "source": [
    "conn = pymysql.connect(\n",
    "    host='foodrm.cgnnqocprf5c.us-east-1.rds.amazonaws.com',\n",
    "    user = 'admin',\n",
    "    password = '1q2w3e4r',\n",
    "    db = 'userdb',\n",
    "    charset = 'utf8'\n",
    "    )\n",
    "cur = conn.cursor()\n",
    "sql = \"select * from item\"\n",
    "cur.execute(sql)\n",
    "result = cur.fetchall()\n",
    "conn.commit()\n",
    "conn.close()\n",
    "\n",
    "ratings = pd.DataFrame(data = result, columns= ['UserID','FoodID'] )\n",
    "print(ratings)\n",
    "ratings = ratings[['UserID', 'FoodID']]\n"
   ]
  },
  {
   "cell_type": "code",
   "execution_count": 3,
   "id": "09d46c17",
   "metadata": {},
   "outputs": [
    {
     "name": "stdout",
     "output_type": "stream",
     "text": [
      "    UserID  FoodID\n",
      "0        1      10\n",
      "1        1      11\n",
      "2        1      12\n",
      "3        1      13\n",
      "4        1      14\n",
      "..     ...     ...\n",
      "86      16      38\n",
      "87      16      39\n",
      "88      17      33\n",
      "89      17      34\n",
      "90      17      35\n",
      "\n",
      "[91 rows x 2 columns]\n"
     ]
    }
   ],
   "source": [
    "print(ratings)"
   ]
  },
  {
   "cell_type": "code",
   "execution_count": 6,
   "id": "c02a7bac",
   "metadata": {},
   "outputs": [
    {
     "name": "stdout",
     "output_type": "stream",
     "text": [
      "     UserID  FoodID\n",
      "0    UserID  FoodID\n",
      "1         1    1014\n",
      "2         1    5516\n",
      "3         1    8923\n",
      "4         1    6431\n",
      "..      ...     ...\n",
      "181       1    1014\n",
      "182       1    5516\n",
      "183       1      12\n",
      "184       1      34\n",
      "185       1      56\n",
      "\n",
      "[186 rows x 2 columns]\n",
      "     UserID  FoodID\n",
      "0    UserID  FoodID\n",
      "1         1    1014\n",
      "2         1    5516\n",
      "3         1    8923\n",
      "4         1    6431\n",
      "..      ...     ...\n",
      "181       1    1014\n",
      "182       1    5516\n",
      "183       1      12\n",
      "184       1      34\n",
      "185       1      56\n",
      "\n",
      "[186 rows x 2 columns]\n"
     ]
    }
   ],
   "source": [
    "ratings = pd.read_table('data.csv', sep=\"::\", header=None, names=[\"UserID\", \"FoodID\"],\n",
    "                            engine='python')\n",
    "print(ratings)\n",
    "ratings = ratings[['UserID', 'FoodID']]\n",
    "print(ratings)\n"
   ]
  },
  {
   "cell_type": "code",
   "execution_count": 14,
   "id": "874c26aa",
   "metadata": {},
   "outputs": [],
   "source": [
    "import pymysql\n",
    "import pandas as pd\n",
    "from pandas import DataFrame, Series\n",
    "import numpy as np\n",
    "username = 'asdf'\n",
    "\n",
    "conn = pymysql.connect(\n",
    "    host='foodrm.cgnnqocprf5c.us-east-1.rds.amazonaws.com',\n",
    "    user = 'admin',\n",
    "    password = '1q2w3e4r',\n",
    "    db = 'userdb',\n",
    "    charset = 'utf8'\n",
    ")\n",
    "cur = conn.cursor()\n",
    "sql = \"select UserID from user where username = '\" + username + \"'\"\n",
    "cur.execute(sql)\n",
    "UserID = cur.fetchall()[0][0]\n",
    "query = \"select FoodID from item where UserID = \" + str(UserID)\n",
    "cur.execute(query)\n",
    "data = cur.fetchall()\n",
    "conn.close()\n",
    "\n",
    "\n"
   ]
  },
  {
   "cell_type": "code",
   "execution_count": 21,
   "id": "22793ee1",
   "metadata": {},
   "outputs": [
    {
     "name": "stdout",
     "output_type": "stream",
     "text": [
      "((10,), (11,), (12,), (13,), (14,), (12,), (23,), (34,), (12,), (23,), (34,), (34,), (45,), (56,))\n",
      "[10, 11, 12, 13, 14, 12, 23, 34, 12, 23, 34, 34, 45, 56]\n"
     ]
    }
   ],
   "source": [
    "print(data)\n",
    "name = np.array(data).transpose().tolist()[0]\n"
   ]
  },
  {
   "cell_type": "code",
   "execution_count": 6,
   "id": "d685b31e",
   "metadata": {},
   "outputs": [],
   "source": [
    "import pymysql\n",
    "import pandas as pd\n",
    "from pandas import DataFrame, Series\n",
    "import numpy as np\n",
    "conn = pymysql.connect(\n",
    "    host='foodrm.cgnnqocprf5c.us-east-1.rds.amazonaws.com',\n",
    "    user = 'admin',\n",
    "    password = '1q2w3e4r',\n",
    "    db = 'fooddb',\n",
    "    charset = 'utf8'\n",
    ")\n",
    "cur =conn.cursor()\n",
    "\n",
    "food = [ '돼지국밥', '소머리국밥', '콩나물국밥', '설렁탕', '갈비탕', '매운탕', '감자탕', '마라탕', '마라샹궈', '된장찌개', '김치찌개', \n",
    "        '부대찌개' , '순두부찌개', '버섯전골', '샤브샤브', '나베', '낙곱새', '갈비', '생선구이', '고기구이', '비빔밥', '볶음밥', '덮밥',\n",
    "        '초밥', '회덮밥', '육회', '돈까스', '생선까스','해물찜', '족발', '보쌈', '스테이크', '폭립', '치킨', '피자' ,'햄버거', '샌드위치',\n",
    "        '짜장면', '짬뽕', '탕수육', '깐풍기', '꿔바로우', '냉면', '라면', '떡국', '국수', '파스타', '김밥', '죽', '샐러드', '토스트']\n",
    "\n",
    "url =  ['https://mp-seoul-image-production-s3.mangoplate.com/17042/223584_1435720757266285767',\n",
    "       'https://mp-seoul-image-production-s3.mangoplate.com/340593/746651_1515641214460_3837',\n",
    "       'https://recipe1.ezmember.co.kr/cache/recipe/2017/07/04/c64a2e8fc862e0cb15f451890789d9561.jpg',\n",
    "       'https://i.ytimg.com/vi/-eQb_6iUwRw/maxresdefault.jpg',\n",
    "       'https://img.theqoo.net/img/iNrXe.png',\n",
    "       'https://recipe1.ezmember.co.kr/cache/recipe/2017/04/24/156396865b96eaae475f91f27f2059971.jpg',\n",
    "       'https://img.siksinhot.com/place/1527205143060159.jpg',\n",
    "       'https://coreanmart.com/wp-content/uploads/2021/05/KakaoTalk_20210506_105638712.jpg',\n",
    "       'https://t1.daumcdn.net/cfile/tistory/997ABE375A3CF4DE03',\n",
    "       'https://kfood.hyangyeon.sg/wp-content/uploads/2020/04/된장찌개-1.jpg',\n",
    "       'https://cdn.clien.net/web/api/file/F01/9335941/52301972f4f34c.jpg',\n",
    "       'https://img.siksinhot.com/place/1505535916592454.jpg',\n",
    "       'http://recipe1.ezmember.co.kr/cache/recipe/2018/09/05/31dc2e6f5fa0b05d313e9c46ba4e88591.jpg',\n",
    "       'https://recipe1.ezmember.co.kr/cache/recipe/2019/02/20/4fbff29f42cae28a7ef00cbc2eeab3561.jpg',\n",
    "       'https://mp-seoul-image-production-s3.mangoplate.com/49755/449685_1552467015650_10636',\n",
    "       'https://img.siksinhot.com/seeon/1441089572184420.jpg',\n",
    "       'https://i.pinimg.com/originals/30/7c/5a/307c5ac797cdf2fd9bf1d737c14880a8.jpg',\n",
    "       'https://cdn.lightning-ashe.com/wp-content/uploads/2016/04/IMG_7287.jpg',\n",
    "       'https://t1.daumcdn.net/cfile/tistory/2443DA4F55C49CEB28',\n",
    "       'https://mp-seoul-image-production-s3.mangoplate.com/459498_1607596072327210.jpg',\n",
    "       'https://t1.daumcdn.net/cfile/blog/273F6A4A525360691E',\n",
    "       'https://recipe1.ezmember.co.kr/cache/recipe/2018/01/11/f283fa572173917c1f8e4d4ee900463d1.jpg',\n",
    "       'http://recipe.ezmember.co.kr/cache/recipe/2016/06/08/6140461616b8aad0e18488967660d4411.jpg',\n",
    "       'http://t1.daumcdn.net/liveboard/mango/f2196fe059cd4630ab57ad131bcc5964.JPG',\n",
    "       'https://newsimg.hankookilbo.com/cms/articlerelease/2016/05/31/201605312042227155_1.jpg?t=20210416090102',\n",
    "       'http://www.maangchi.com/wp-content/uploads/2010/04/seasoned-rawbeef.jpg',\n",
    "        'https://img.siksinhot.com/place/1527132173692039.jpg',\n",
    "        'http://image.fmkorea.com/files/attach/new/20171223/486616/857298993/876418737/d84ec9a76e92f3814e1a154b4750c7b3.jpg',\n",
    "        'https://recipe1.ezmember.co.kr/cache/recipe/2016/12/16/99d6cb0cb6c434b562217f407623c8491.jpg',\n",
    "        'https://www.newiki.net/w/images/thumb/f/f3/Jokbal.jpg/1200px-Jokbal.jpg',\n",
    "        'http://hobbyen.co.kr/news/data/20191213/p179558688114647_907.png',\n",
    "        'https://image.fmkorea.com/files/attach/new/20191220/3655304/408581828/2515220370/9cb17a19e9c5bac0e7001dde9d406dbe.jpeg',\n",
    "        'http://img.ezmember.co.kr/cache/board/2013/12/23/18b54fbb29e95e3cdc62453fcf52fa74.jpg',\n",
    "        'https://upload.wikimedia.org/wikipedia/commons/2/20/Korean_fried_chicken_3_banban.jpg',\n",
    "        'https://t1.daumcdn.net/cfile/tistory/13136E424FC2FD260D',\n",
    "        'https://t1.daumcdn.net/liveboard/SNUH/8f47f7ad4809492e8e8f5bba4a5531c5.JPG',\n",
    "        'https://www.maangchi.com/wp-content/uploads/2017/07/three-color-sandwich-dosirak.jpg',\n",
    "        'https://t1.daumcdn.net/cfile/tistory/260E154E570C1B3E34',\n",
    "        'https://t1.daumcdn.net/cfile/tistory/246F0D435865ECA315',\n",
    "        'https://img.jjang0u.com/data4/docs/160/202009/28/da/cc92bb9622aa489b2d492bc43890c7b1_228761.jpg',\n",
    "        'https://recipe1.ezmember.co.kr/cache/recipe/2015/10/25/47e8080f901ecc25a1f0e7947d2b1ee21.jpg',\n",
    "        'https://img-cf.kurly.com/shop/data/goodsview/20201223/gv30000145690_1.jpg',\n",
    "        'http://img.wkorea.com/w/2018/05/style_5afdacefc95f6.jpg',\n",
    "        'https://health.chosun.com/site/data/img_dir/2022/09/23/2022092301908_0.jpg',\n",
    "        'https://t1.daumcdn.net/cfile/tistory/9921A9485A47205706',\n",
    "        'https://t1.daumcdn.net/cfile/tistory/1642DB274C40D1320E',\n",
    "        'https://static.wtable.co.kr/image/production/service/recipe/1767/8a70db02-325f-4dd0-9780-625a2e7cfefe.jpg',\n",
    "        'https://recipe1.ezmember.co.kr/cache/recipe/2016/06/29/e7401296033ab8e4297cd53d71e1bba91.jpg',\n",
    "        'https://recipe1.ezmember.co.kr/cache/recipe/2017/08/14/ac6b1a3aa355f77f5fe63e8d694bb44a1.jpg',\n",
    "        'https://src.hidoc.co.kr/image/lib/2021/2/17/1613545788294_0.jpg',\n",
    "        'https://static.wtable.co.kr/image/production/service/recipe/170/88f14bd3-d922-4d67-8c38-1dcf9fee27bc.jpg'\n",
    "       ]"
   ]
  },
  {
   "cell_type": "code",
   "execution_count": null,
   "id": "59d45b07",
   "metadata": {},
   "outputs": [],
   "source": []
  }
 ],
 "metadata": {
  "kernelspec": {
   "display_name": "Python 3 (ipykernel)",
   "language": "python",
   "name": "python3"
  },
  "language_info": {
   "codemirror_mode": {
    "name": "ipython",
    "version": 3
   },
   "file_extension": ".py",
   "mimetype": "text/x-python",
   "name": "python",
   "nbconvert_exporter": "python",
   "pygments_lexer": "ipython3",
   "version": "3.9.12"
  },
  "vscode": {
   "interpreter": {
    "hash": "2c458b840a3aced4a3c9e1d09170a6fc6fc8b7d0643e195e46f501ae4a1505fb"
   }
  }
 },
 "nbformat": 4,
 "nbformat_minor": 5
}
