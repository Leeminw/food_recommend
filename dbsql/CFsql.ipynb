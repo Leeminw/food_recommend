{
 "cells": [
  {
   "cell_type": "code",
   "execution_count": 8,
   "id": "8458cda1",
   "metadata": {},
   "outputs": [],
   "source": [
    "import pymysql\n",
    "import pandas as pd\n",
    "from pandas import DataFrame, Series\n",
    "import numpy as np\n",
    "def input_food (FoodID, name) :\n",
    "    conn = pymysql.connect(\n",
    "        host='foodrm.cgnnqocprf5c.us-east-1.rds.amazonaws.com',\n",
    "        user = 'admin',\n",
    "        password = '1q2w3e4r',\n",
    "        db = 'fooddb',\n",
    "        charset = 'utf8'\n",
    "    )\n",
    "    cur =conn.cursor()\n",
    "    sql = \"insert into food (FoodID, name) values(%s, %s)\"\n",
    "    cur.execute(sql,(FoodID,name))\n",
    "    conn.commit()\n",
    "    conn.close()\n",
    "\n",
    "food = [ '돼지국밥', '소머리국밥', '콩나물국밥', '설렁탕', '갈비탕', '매운탕', '감자탕', '마라탕', '마라샹궈', '된장찌개', '김치찌개', \n",
    "        '부대찌개' , '순두부찌개', '버섯전골', '샤브샤브', '나베', '낙곱새', '갈비', '생선구이', '고기구이', '비빔밥', '볶음밥', '덮밥',\n",
    "        '초밥', '회덮밥', '육회', '돈까스', '생선까스','해물찜', '족발', '보쌈', '스테이크', '폭립', '치킨', '피자' ,'햄버거', '샌드위치',\n",
    "        '짜장면', '짬뽕', '탕수육', '깐풍기', '꿔바로우', '냉면', '라면', '떡국', '국수', '파스타', '김밥', '죽', '샐러드', '토스트']\n",
    "\n",
    "for i in range (1, len(food)+1) :\n",
    "    input_food(i, food[i-1])\n",
    "        "
   ]
  },
  {
   "cell_type": "code",
   "execution_count": 1,
   "id": "bad68e65",
   "metadata": {},
   "outputs": [],
   "source": [
    "import pymysql\n",
    "import pandas as pd\n",
    "from pandas import DataFrame, Series\n",
    "import numpy as np\n",
    "conn = pymysql.connect(\n",
    "    host='foodrm.cgnnqocprf5c.us-east-1.rds.amazonaws.com',\n",
    "    user = 'admin',\n",
    "    password = '1q2w3e4r',\n",
    "    db = 'fooddb',\n",
    "    charset = 'utf8'\n",
    ")\n"
   ]
  },
  {
   "cell_type": "code",
   "execution_count": 44,
   "id": "d6772942",
   "metadata": {},
   "outputs": [
    {
     "name": "stdout",
     "output_type": "stream",
     "text": [
      "2\n",
      "((1, '', '', '남성', 20),)\n"
     ]
    }
   ],
   "source": []
  },
  {
   "cell_type": "code",
   "execution_count": null,
   "id": "d92fb1f2",
   "metadata": {},
   "outputs": [],
   "source": []
  },
  {
   "cell_type": "code",
   "execution_count": null,
   "id": "b19eea16",
   "metadata": {},
   "outputs": [],
   "source": []
  }
 ],
 "metadata": {
  "kernelspec": {
   "display_name": "Python 3 (ipykernel)",
   "language": "python",
   "name": "python3"
  },
  "language_info": {
   "codemirror_mode": {
    "name": "ipython",
    "version": 3
   },
   "file_extension": ".py",
   "mimetype": "text/x-python",
   "name": "python",
   "nbconvert_exporter": "python",
   "pygments_lexer": "ipython3",
   "version": "3.9.12"
  }
 },
 "nbformat": 4,
 "nbformat_minor": 5
}
