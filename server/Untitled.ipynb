{
 "cells": [
  {
   "cell_type": "code",
   "execution_count": 2,
   "id": "9bad4ebe",
   "metadata": {},
   "outputs": [
    {
     "name": "stdout",
     "output_type": "stream",
     "text": [
      "['라면', '볶음밥', '짜장면', '생선구이', '족발']\n",
      "['https://health.chosun.com/site/data/img_dir/2022/09/23/2022092301908_0.jpg', 'https://recipe1.ezmember.co.kr/cache/recipe/2018/01/11/f283fa572173917c1f8e4d4ee900463d1.jpg', 'https://t1.daumcdn.net/cfile/tistory/260E154E570C1B3E34', 'https://t1.daumcdn.net/cfile/tistory/2443DA4F55C49CEB28', 'https://www.newiki.net/w/images/thumb/f/f3/Jokbal.jpg/1200px-Jokbal.jpg']\n"
     ]
    }
   ],
   "source": [
    "import collaborative_filtering as cf\n",
    "\n",
    "rm = []\n",
    "url = []\n",
    "\n",
    "rm , url = cf.foodrm('asdf')\n",
    "\n",
    "print(rm)\n",
    "print(url)"
   ]
  },
  {
   "cell_type": "code",
   "execution_count": 3,
   "id": "aef05101",
   "metadata": {},
   "outputs": [
    {
     "name": "stdout",
     "output_type": "stream",
     "text": [
      "https://health.chosun.com/site/data/img_dir/2022/09/23/2022092301908_0.jpg\n",
      "https://recipe1.ezmember.co.kr/cache/recipe/2018/01/11/f283fa572173917c1f8e4d4ee900463d1.jpg\n",
      "https://t1.daumcdn.net/cfile/tistory/260E154E570C1B3E34\n",
      "https://t1.daumcdn.net/cfile/tistory/2443DA4F55C49CEB28\n",
      "https://www.newiki.net/w/images/thumb/f/f3/Jokbal.jpg/1200px-Jokbal.jpg\n"
     ]
    }
   ],
   "source": [
    "for a in url :\n",
    "    print(a)"
   ]
  },
  {
   "cell_type": "code",
   "execution_count": null,
   "id": "c145db41",
   "metadata": {},
   "outputs": [],
   "source": []
  }
 ],
 "metadata": {
  "kernelspec": {
   "display_name": "Python 3 (ipykernel)",
   "language": "python",
   "name": "python3"
  },
  "language_info": {
   "codemirror_mode": {
    "name": "ipython",
    "version": 3
   },
   "file_extension": ".py",
   "mimetype": "text/x-python",
   "name": "python",
   "nbconvert_exporter": "python",
   "pygments_lexer": "ipython3",
   "version": "3.9.12"
  }
 },
 "nbformat": 4,
 "nbformat_minor": 5
}
