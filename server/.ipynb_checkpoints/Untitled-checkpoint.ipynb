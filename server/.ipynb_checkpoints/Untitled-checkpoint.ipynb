{
 "cells": [
  {
   "cell_type": "code",
   "execution_count": null,
   "id": "6f4e8ad5",
   "metadata": {},
   "outputs": [
    {
     "name": "stdout",
     "output_type": "stream",
     "text": [
      " * Serving Flask app '__main__' (lazy loading)\n",
      " * Environment: production\n",
      "\u001b[31m   WARNING: This is a development server. Do not use it in a production deployment.\u001b[0m\n",
      "\u001b[2m   Use a production WSGI server instead.\u001b[0m\n",
      " * Debug mode: off\n"
     ]
    },
    {
     "name": "stderr",
     "output_type": "stream",
     "text": [
      " * Running on all addresses.\n",
      "   WARNING: This is a development server. Do not use it in a production deployment.\n",
      " * Running on http://192.168.219.124:5000/ (Press CTRL+C to quit)\n",
      "[2022-10-30 21:34:28,189] ERROR in app: Exception on / [GET]\n",
      "Traceback (most recent call last):\n",
      "  File \"C:\\Users\\JIHO\\anaconda3\\envs\\torch\\lib\\site-packages\\flask\\app.py\", line 2073, in wsgi_app\n",
      "    response = self.full_dispatch_request()\n",
      "  File \"C:\\Users\\JIHO\\anaconda3\\envs\\torch\\lib\\site-packages\\flask\\app.py\", line 1518, in full_dispatch_request\n",
      "    rv = self.handle_user_exception(e)\n",
      "  File \"C:\\Users\\JIHO\\anaconda3\\envs\\torch\\lib\\site-packages\\flask_cors\\extension.py\", line 165, in wrapped_function\n",
      "    return cors_after_request(app.make_response(f(*args, **kwargs)))\n",
      "  File \"C:\\Users\\JIHO\\anaconda3\\envs\\torch\\lib\\site-packages\\flask\\app.py\", line 1516, in full_dispatch_request\n",
      "    rv = self.dispatch_request()\n",
      "  File \"C:\\Users\\JIHO\\anaconda3\\envs\\torch\\lib\\site-packages\\flask\\app.py\", line 1502, in dispatch_request\n",
      "    return self.ensure_sync(self.view_functions[rule.endpoint])(**req.view_args)\n",
      "  File \"C:\\Users\\Public\\Documents\\ESTsoft\\CreatorTemp\\ipykernel_21716\\928064544.py\", line 36, in cfrm\n",
      "    return jsonify({'code':200, 'msg':'user logout successfully',  'data': jsonify(data) })\n",
      "  File \"C:\\Users\\JIHO\\anaconda3\\envs\\torch\\lib\\site-packages\\flask\\json\\__init__.py\", line 361, in jsonify\n",
      "    f\"{dumps(data, indent=indent, separators=separators)}\\n\",\n",
      "  File \"C:\\Users\\JIHO\\anaconda3\\envs\\torch\\lib\\site-packages\\flask\\json\\__init__.py\", line 139, in dumps\n",
      "    rv = _json.dumps(obj, **kwargs)\n",
      "  File \"C:\\Users\\JIHO\\anaconda3\\envs\\torch\\lib\\json\\__init__.py\", line 234, in dumps\n",
      "    return cls(\n",
      "  File \"C:\\Users\\JIHO\\anaconda3\\envs\\torch\\lib\\json\\encoder.py\", line 199, in encode\n",
      "    chunks = self.iterencode(o, _one_shot=True)\n",
      "  File \"C:\\Users\\JIHO\\anaconda3\\envs\\torch\\lib\\json\\encoder.py\", line 257, in iterencode\n",
      "    return _iterencode(o, 0)\n",
      "  File \"C:\\Users\\JIHO\\anaconda3\\envs\\torch\\lib\\site-packages\\flask\\json\\__init__.py\", line 57, in default\n",
      "    return super().default(o)\n",
      "  File \"C:\\Users\\JIHO\\anaconda3\\envs\\torch\\lib\\json\\encoder.py\", line 179, in default\n",
      "    raise TypeError(f'Object of type {o.__class__.__name__} '\n",
      "TypeError: Object of type Response is not JSON serializable\n",
      "192.168.219.124 - - [30/Oct/2022 21:34:28] \"GET / HTTP/1.1\" 500 -\n"
     ]
    }
   ],
   "source": [
    "from flask import Flask, request, jsonify, current_app, session\n",
    "import pymysql\n",
    "from flask_cors import *\n",
    "import torch\n",
    "import torch.nn as nn\n",
    "import torch.optim as optim\n",
    "from PIL import Image\n",
    "import io\n",
    "\n",
    "import matplotlib\n",
    "import matplotlib.pyplot as plt\n",
    "import matplotlib.font_manager as fm\n",
    "\n",
    "import torchvision\n",
    "from torchvision import datasets, models, transforms\n",
    "\n",
    "import numpy as np\n",
    "import time\n",
    "\n",
    "import cfrm as cf\n",
    "\n",
    "\n",
    "app = Flask(__name__)\n",
    "CORS(app, resources=r'*')\n",
    "app.config['DBHOST'] = 'foodrm.cgnnqocprf5c.us-east-1.rds.amazonaws.com'\n",
    "app.config['DBUSER'] = 'admin'\n",
    "app.config['DBPWD'] = '1q2w3e4r'\n",
    "app.config['DBNAME'] = 'userdb'\n",
    "app.config['DBPORT'] = 3306\n",
    "app.config['SECRET_KEY'] = 'test123ASLDFJKLJK1JKL23JKLd123b'\n",
    "\n",
    "\n",
    "@app.route('/')\n",
    "def cfrm():\n",
    "    data = cf.foodrm('asdf')\n",
    "    return jsonify({'code':200, 'msg':'user logout successfully',  'data': '' })\n",
    "\n",
    "\n",
    "if __name__ == '__main__':\n",
    "    app.run(host='0.0.0.0', port=5000)\n"
   ]
  },
  {
   "cell_type": "code",
   "execution_count": null,
   "id": "4e8442b8",
   "metadata": {},
   "outputs": [],
   "source": [
    "! pip install flask_cors\n"
   ]
  },
  {
   "cell_type": "code",
   "execution_count": null,
   "id": "acf430bb",
   "metadata": {},
   "outputs": [],
   "source": []
  }
 ],
 "metadata": {
  "kernelspec": {
   "display_name": "Python 3 (ipykernel)",
   "language": "python",
   "name": "python3"
  },
  "language_info": {
   "codemirror_mode": {
    "name": "ipython",
    "version": 3
   },
   "file_extension": ".py",
   "mimetype": "text/x-python",
   "name": "python",
   "nbconvert_exporter": "python",
   "pygments_lexer": "ipython3",
   "version": "3.9.12"
  }
 },
 "nbformat": 4,
 "nbformat_minor": 5
}
